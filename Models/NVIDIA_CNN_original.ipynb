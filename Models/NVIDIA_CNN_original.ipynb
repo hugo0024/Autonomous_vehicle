{
 "cells": [
  {
   "cell_type": "markdown",
   "id": "96fe66a5",
   "metadata": {},
   "source": [
    "# NVIDIA_CNN_original"
   ]
  },
  {
   "cell_type": "code",
   "execution_count": 37,
   "id": "434fda4d",
   "metadata": {},
   "outputs": [],
   "source": [
    "import os\n",
    "import fnmatch\n",
    "import numpy as np\n",
    "import pandas as pd\n",
    "import matplotlib.pyplot as plt\n",
    "from PIL import Image\n",
    "from natsort import natsorted\n",
    "\n",
    "from sklearn.preprocessing import LabelEncoder\n",
    "from sklearn.model_selection import train_test_split\n",
    "from sklearn.metrics import confusion_matrix, classification_report\n",
    "\n",
    "import tensorflow as tf\n",
    "from tensorflow.keras.layers import Dense, Flatten,Dropout, BatchNormalization, Conv2D\n",
    "from tensorflow.keras import Model\n",
    "from tensorflow.keras.preprocessing.image import ImageDataGenerator\n",
    "from tensorflow.python.keras import regularizers\n",
    "from tensorflow_addons.metrics import RSquare\n",
    "from imgaug import augmenters as img_aug\n",
    "\n",
    "import warnings\n",
    "import random\n",
    "import cv2\n",
    "import pickle\n",
    "warnings.filterwarnings('ignore')"
   ]
  },
  {
   "cell_type": "code",
   "execution_count": 2,
   "id": "7002aae6",
   "metadata": {},
   "outputs": [],
   "source": [
    "gpus = tf.config.experimental.list_physical_devices('GPU')\n",
    "if gpus:\n",
    "  try:\n",
    "    tf.config.experimental.set_virtual_device_configuration(\n",
    "        gpus[0],\n",
    "        [tf.config.experimental.VirtualDeviceConfiguration(memory_limit=4096)]) # Notice here\n",
    "    logical_gpus = tf.config.experimental.list_logical_devices('GPU')\n",
    "    print(len(gpus), \"Physical GPUs,\", len(logical_gpus), \"Logical GPUs\")\n",
    "  except RuntimeError as e:\n",
    "    # Virtual devices must be set before GPUs have been initialized\n",
    "    print(e)"
   ]
  },
  {
   "cell_type": "code",
   "execution_count": 3,
   "id": "c2bc356e",
   "metadata": {},
   "outputs": [
    {
     "data": {
      "text/html": [
       "<div>\n",
       "<style scoped>\n",
       "    .dataframe tbody tr th:only-of-type {\n",
       "        vertical-align: middle;\n",
       "    }\n",
       "\n",
       "    .dataframe tbody tr th {\n",
       "        vertical-align: top;\n",
       "    }\n",
       "\n",
       "    .dataframe thead th {\n",
       "        text-align: right;\n",
       "    }\n",
       "</style>\n",
       "<table border=\"1\" class=\"dataframe\">\n",
       "  <thead>\n",
       "    <tr style=\"text-align: right;\">\n",
       "      <th></th>\n",
       "      <th>image_id</th>\n",
       "      <th>angle</th>\n",
       "      <th>speed</th>\n",
       "    </tr>\n",
       "  </thead>\n",
       "  <tbody>\n",
       "    <tr>\n",
       "      <th>0</th>\n",
       "      <td>1</td>\n",
       "      <td>0.4375</td>\n",
       "      <td>0.0</td>\n",
       "    </tr>\n",
       "    <tr>\n",
       "      <th>1</th>\n",
       "      <td>2</td>\n",
       "      <td>0.8125</td>\n",
       "      <td>1.0</td>\n",
       "    </tr>\n",
       "    <tr>\n",
       "      <th>2</th>\n",
       "      <td>3</td>\n",
       "      <td>0.4375</td>\n",
       "      <td>1.0</td>\n",
       "    </tr>\n",
       "    <tr>\n",
       "      <th>3</th>\n",
       "      <td>4</td>\n",
       "      <td>0.6250</td>\n",
       "      <td>1.0</td>\n",
       "    </tr>\n",
       "    <tr>\n",
       "      <th>4</th>\n",
       "      <td>5</td>\n",
       "      <td>0.5000</td>\n",
       "      <td>0.0</td>\n",
       "    </tr>\n",
       "  </tbody>\n",
       "</table>\n",
       "</div>"
      ],
      "text/plain": [
       "   image_id   angle  speed\n",
       "0         1  0.4375    0.0\n",
       "1         2  0.8125    1.0\n",
       "2         3  0.4375    1.0\n",
       "3         4  0.6250    1.0\n",
       "4         5  0.5000    0.0"
      ]
     },
     "execution_count": 3,
     "metadata": {},
     "output_type": "execute_result"
    }
   ],
   "source": [
    "# Load csv file \n",
    "df = pd.read_csv('../datasets/PiCar/training_norm.csv', index_col=False)\n",
    "df.head()"
   ]
  },
  {
   "cell_type": "code",
   "execution_count": 4,
   "id": "6539c1b3",
   "metadata": {},
   "outputs": [
    {
     "data": {
      "text/plain": [
       "(13793, 3)"
      ]
     },
     "execution_count": 4,
     "metadata": {},
     "output_type": "execute_result"
    }
   ],
   "source": [
    "df.shape"
   ]
  },
  {
   "cell_type": "code",
   "execution_count": 5,
   "id": "2fa30ea5",
   "metadata": {},
   "outputs": [],
   "source": [
    "#df = df.drop('image_id', axis=1)\n",
    "#df.head()"
   ]
  },
  {
   "cell_type": "code",
   "execution_count": 6,
   "id": "eaa3263c",
   "metadata": {},
   "outputs": [
    {
     "data": {
      "text/plain": [
       "0.7500    2123\n",
       "0.5000    2046\n",
       "0.6875    2007\n",
       "0.6250    1963\n",
       "0.5625    1609\n",
       "0.4375    1467\n",
       "0.8125    1147\n",
       "0.3750     428\n",
       "0.8750     301\n",
       "0.3125     213\n",
       "0.2500     104\n",
       "0.1250      99\n",
       "0.1875      98\n",
       "0.9375      65\n",
       "0.0000      60\n",
       "1.0000      35\n",
       "0.0625      28\n",
       "Name: angle, dtype: int64"
      ]
     },
     "execution_count": 6,
     "metadata": {},
     "output_type": "execute_result"
    }
   ],
   "source": [
    "df['angle'].value_counts()"
   ]
  },
  {
   "cell_type": "code",
   "execution_count": 7,
   "id": "060ed290",
   "metadata": {},
   "outputs": [
    {
     "name": "stdout",
     "output_type": "stream",
     "text": [
      "Missing data: [3141, 3999, 4895, 8285, 10171]\n"
     ]
    }
   ],
   "source": [
    "a = df['image_id'].tolist()\n",
    "b = [x for x in range(a[0], a[-1] + 1)]\n",
    "missing_vals = list(set(a) ^ set(b))\n",
    "print('Missing data:', missing_vals)"
   ]
  },
  {
   "cell_type": "code",
   "execution_count": 8,
   "id": "7fdcb875",
   "metadata": {},
   "outputs": [
    {
     "data": {
      "text/html": [
       "<div>\n",
       "<style scoped>\n",
       "    .dataframe tbody tr th:only-of-type {\n",
       "        vertical-align: middle;\n",
       "    }\n",
       "\n",
       "    .dataframe tbody tr th {\n",
       "        vertical-align: top;\n",
       "    }\n",
       "\n",
       "    .dataframe thead th {\n",
       "        text-align: right;\n",
       "    }\n",
       "</style>\n",
       "<table border=\"1\" class=\"dataframe\">\n",
       "  <thead>\n",
       "    <tr style=\"text-align: right;\">\n",
       "      <th></th>\n",
       "      <th>images</th>\n",
       "    </tr>\n",
       "  </thead>\n",
       "  <tbody>\n",
       "    <tr>\n",
       "      <th>count</th>\n",
       "      <td>13793</td>\n",
       "    </tr>\n",
       "    <tr>\n",
       "      <th>unique</th>\n",
       "      <td>13793</td>\n",
       "    </tr>\n",
       "    <tr>\n",
       "      <th>top</th>\n",
       "      <td>../datasets/PiCar/train/training_data/7119.png</td>\n",
       "    </tr>\n",
       "    <tr>\n",
       "      <th>freq</th>\n",
       "      <td>1</td>\n",
       "    </tr>\n",
       "  </tbody>\n",
       "</table>\n",
       "</div>"
      ],
      "text/plain": [
       "                                                images\n",
       "count                                            13793\n",
       "unique                                           13793\n",
       "top     ../datasets/PiCar/train/training_data/7119.png\n",
       "freq                                                 1"
      ]
     },
     "execution_count": 8,
     "metadata": {},
     "output_type": "execute_result"
    }
   ],
   "source": [
    "images_dir = '../datasets/PiCar/train/training_data'\n",
    "file_list = os.listdir(images_dir)\n",
    "image_paths = []\n",
    "pattern = \"*.png\"\n",
    "\n",
    "for filename in file_list:\n",
    "    if fnmatch.fnmatch(filename, pattern):\n",
    "        image_paths.append(os.path.join(images_dir,filename))\n",
    "\n",
    "image_paths = natsorted(image_paths)\n",
    "image_paths = [string for string in image_paths if string != '../datasets/PiCar/train/training_data/3141.png']\n",
    "image_paths = [string for string in image_paths if string != '../datasets/PiCar/train/training_data/3999.png']\n",
    "image_paths = [string for string in image_paths if string != '../datasets/PiCar/train/training_data/4895.png']\n",
    "image_paths = [string for string in image_paths if string != '../datasets/PiCar/train/training_data/8285.png']\n",
    "image_paths = [string for string in image_paths if string != '../datasets/PiCar/train/training_data/10171.png']\n",
    "\n",
    "image_paths = [string for string in image_paths if string != '../datasets/PiCar/train/training_data\\\\3141.png']\n",
    "image_paths = [string for string in image_paths if string != '../datasets/PiCar/train/training_data\\\\3999.png']\n",
    "image_paths = [string for string in image_paths if string != '../datasets/PiCar/train/training_data\\\\4895.png']\n",
    "image_paths = [string for string in image_paths if string != '../datasets/PiCar/train/training_data\\\\8285.png']\n",
    "image_paths = [string for string in image_paths if string != '../datasets/PiCar/train/training_data\\\\10171.png']\n",
    "\n",
    "images = pd.DataFrame (image_paths, columns = ['images'])\n",
    "images.describe()"
   ]
  },
  {
   "cell_type": "code",
   "execution_count": 9,
   "id": "8fe42cb6",
   "metadata": {},
   "outputs": [
    {
     "data": {
      "text/html": [
       "<div>\n",
       "<style scoped>\n",
       "    .dataframe tbody tr th:only-of-type {\n",
       "        vertical-align: middle;\n",
       "    }\n",
       "\n",
       "    .dataframe tbody tr th {\n",
       "        vertical-align: top;\n",
       "    }\n",
       "\n",
       "    .dataframe thead th {\n",
       "        text-align: right;\n",
       "    }\n",
       "</style>\n",
       "<table border=\"1\" class=\"dataframe\">\n",
       "  <thead>\n",
       "    <tr style=\"text-align: right;\">\n",
       "      <th></th>\n",
       "      <th>angle</th>\n",
       "      <th>speed</th>\n",
       "      <th>images</th>\n",
       "    </tr>\n",
       "  </thead>\n",
       "  <tbody>\n",
       "    <tr>\n",
       "      <th>13788</th>\n",
       "      <td>0.6250</td>\n",
       "      <td>1.0</td>\n",
       "      <td>../datasets/PiCar/train/training_data/13794.png</td>\n",
       "    </tr>\n",
       "    <tr>\n",
       "      <th>13789</th>\n",
       "      <td>0.4375</td>\n",
       "      <td>1.0</td>\n",
       "      <td>../datasets/PiCar/train/training_data/13795.png</td>\n",
       "    </tr>\n",
       "    <tr>\n",
       "      <th>13790</th>\n",
       "      <td>0.5625</td>\n",
       "      <td>0.0</td>\n",
       "      <td>../datasets/PiCar/train/training_data/13796.png</td>\n",
       "    </tr>\n",
       "    <tr>\n",
       "      <th>13791</th>\n",
       "      <td>0.6250</td>\n",
       "      <td>0.0</td>\n",
       "      <td>../datasets/PiCar/train/training_data/13797.png</td>\n",
       "    </tr>\n",
       "    <tr>\n",
       "      <th>13792</th>\n",
       "      <td>0.6875</td>\n",
       "      <td>1.0</td>\n",
       "      <td>../datasets/PiCar/train/training_data/13798.png</td>\n",
       "    </tr>\n",
       "  </tbody>\n",
       "</table>\n",
       "</div>"
      ],
      "text/plain": [
       "        angle  speed                                           images\n",
       "13788  0.6250    1.0  ../datasets/PiCar/train/training_data/13794.png\n",
       "13789  0.4375    1.0  ../datasets/PiCar/train/training_data/13795.png\n",
       "13790  0.5625    0.0  ../datasets/PiCar/train/training_data/13796.png\n",
       "13791  0.6250    0.0  ../datasets/PiCar/train/training_data/13797.png\n",
       "13792  0.6875    1.0  ../datasets/PiCar/train/training_data/13798.png"
      ]
     },
     "execution_count": 9,
     "metadata": {},
     "output_type": "execute_result"
    }
   ],
   "source": [
    "df_all = pd.concat([df, images], axis=1)\n",
    "df_all = df_all.drop('image_id', axis=1)\n",
    "df_all.tail()"
   ]
  },
  {
   "cell_type": "code",
   "execution_count": 10,
   "id": "f9a4fc4f",
   "metadata": {},
   "outputs": [
    {
     "data": {
      "text/plain": [
       "(13793, 3)"
      ]
     },
     "execution_count": 10,
     "metadata": {},
     "output_type": "execute_result"
    }
   ],
   "source": [
    "df_all.shape"
   ]
  },
  {
   "cell_type": "code",
   "execution_count": 11,
   "id": "108b5783",
   "metadata": {},
   "outputs": [],
   "source": [
    "#le = LabelEncoder()\n",
    "#df_all['angle']= le.fit_transform(df_all['angle'])\n",
    "#df_all.head()"
   ]
  },
  {
   "cell_type": "code",
   "execution_count": 12,
   "id": "7c68a45e",
   "metadata": {},
   "outputs": [
    {
     "name": "stdout",
     "output_type": "stream",
     "text": [
      "image_path: ../datasets/PiCar/train/training_data/11.png\n",
      "steering_Angle: 0.6875\n",
      "Speed: 0.0\n"
     ]
    },
    {
     "data": {
      "image/png": "[encoded data removed]",
      "text/plain": [
       "<Figure size 432x288 with 1 Axes>"
      ]
     },
     "metadata": {
      "needs_background": "light"
     },
     "output_type": "display_data"
    }
   ],
   "source": [
    "image_paths = df_all['images'].tolist()\n",
    "steering_angles = df_all['angle'].tolist()\n",
    "speed = df_all['speed'].tolist()\n",
    "\n",
    "\n",
    "image_index = 10\n",
    "plt.imshow(Image.open(image_paths[image_index]))\n",
    "print(\"image_path: %s\" % image_paths[image_index]) \n",
    "print(\"steering_Angle:\", steering_angles[image_index]) \n",
    "print(\"Speed:\", speed[image_index]) \n"
   ]
  },
  {
   "cell_type": "code",
   "execution_count": 15,
   "id": "a2afd909",
   "metadata": {},
   "outputs": [
    {
     "name": "stdout",
     "output_type": "stream",
     "text": [
      "(240, 320, 3)\n"
     ]
    },
    {
     "data": {
      "image/png": "[encoded data removed]",
      "text/plain": [
       "<Figure size 432x288 with 1 Axes>"
      ]
     },
     "metadata": {
      "needs_background": "light"
     },
     "output_type": "display_data"
    }
   ],
   "source": [
    "test_image = cv2.imread(df_all['images'][10])\n",
    "test_image = cv2.cvtColor(test_image, cv2.COLOR_BGR2RGB)\n",
    "print(test_image.shape)\n",
    "test_image = cv2.resize(test_image, (200,66))\n",
    "plt.imshow(test_image)\n",
    "plt.show()"
   ]
  },
  {
   "cell_type": "code",
   "execution_count": 16,
   "id": "f1b16576",
   "metadata": {},
   "outputs": [
    {
     "name": "stdout",
     "output_type": "stream",
     "text": [
      "Training data: 11034\n",
      "Validation data: 2759\n"
     ]
    }
   ],
   "source": [
    "X_train, X_valid = train_test_split( df_all, test_size=0.2)\n",
    "print(\"Training data: %d\\nValidation data: %d\" % (len(X_train), len(X_valid)))"
   ]
  },
  {
   "cell_type": "code",
   "execution_count": 17,
   "id": "c96b8ec3",
   "metadata": {},
   "outputs": [],
   "source": [
    "class Nvidia_CNN_original(tf.keras.Model):\n",
    "  def __init__(self):\n",
    "    super().__init__()\n",
    "    \n",
    "    self.conv1 = Conv2D(24, 5,strides=(2, 2), activation='relu')\n",
    "    self.conv2 = Conv2D(36, 5, strides=(2, 2),activation='relu')\n",
    "    self.conv3 = Conv2D(48, 5, strides=(2, 2),activation='relu')\n",
    "    self.conv4 = Conv2D(64, 3, activation='relu') # stride taken out\n",
    "    #self.drop1 = Dropout(0.25)\n",
    "    self.batch1 = BatchNormalization()\n",
    "    self.conv5 = Conv2D(64, 3,activation='relu')# stride taken out\n",
    "    \n",
    "    self.flatten = Flatten()\n",
    "    self.drop2 = Dropout(0.25)\n",
    "    self.d1 = Dense(100, activation='relu')\n",
    "    self.d2 = Dense(50, activation='relu')\n",
    "    self.d3 = Dense(10, activation='relu')\n",
    "    #self.d4 = Dense(16, activation='relu')\n",
    "    \n",
    "    self.Y1 = Dense(1, activation='relu')    \n",
    "    self.Y2 = Dense(1, activation = 'sigmoid')\n",
    "\n",
    "  def call(self, x):\n",
    "    x = self.conv1(x)\n",
    "    x = self.conv2(x)\n",
    "    x = self.conv3(x)\n",
    "    x = self.conv4(x)\n",
    "    #x = self.drop1(x)\n",
    "    x = self.batch1(x)\n",
    "    x = self.conv5(x)\n",
    "    \n",
    "    x = self.flatten(x)\n",
    "    x = self.drop2(x)\n",
    "    x = self.d1(x)\n",
    "    x = self.d2(x)\n",
    "    x = self.d3(x)\n",
    "    #x = self.d4(x)\n",
    "    \n",
    "    \n",
    "    y1 = self.Y1(x)\n",
    "    y2 = self.Y2(x)\n",
    "    \n",
    "    return y1,y2"
   ]
  },
  {
   "cell_type": "code",
   "execution_count": 18,
   "id": "47d77ac1",
   "metadata": {},
   "outputs": [
    {
     "name": "stdout",
     "output_type": "stream",
     "text": [
      "Model: \"nvidia_cnn_original\"\n",
      "_________________________________________________________________\n",
      " Layer (type)                Output Shape              Param #   \n",
      "=================================================================\n",
      " conv2d (Conv2D)             multiple                  1824      \n",
      "                                                                 \n",
      " conv2d_1 (Conv2D)           multiple                  21636     \n",
      "                                                                 \n",
      " conv2d_2 (Conv2D)           multiple                  43248     \n",
      "                                                                 \n",
      " conv2d_3 (Conv2D)           multiple                  27712     \n",
      "                                                                 \n",
      " batch_normalization (BatchN  multiple                 256       \n",
      " ormalization)                                                   \n",
      "                                                                 \n",
      " conv2d_4 (Conv2D)           multiple                  36928     \n",
      "                                                                 \n",
      " flatten (Flatten)           multiple                  0         \n",
      "                                                                 \n",
      " dropout (Dropout)           multiple                  0         \n",
      "                                                                 \n",
      " dense (Dense)               multiple                  115300    \n",
      "                                                                 \n",
      " dense_1 (Dense)             multiple                  5050      \n",
      "                                                                 \n",
      " dense_2 (Dense)             multiple                  510       \n",
      "                                                                 \n",
      " dense_3 (Dense)             multiple                  11        \n",
      "                                                                 \n",
      " dense_4 (Dense)             multiple                  11        \n",
      "                                                                 \n",
      "=================================================================\n",
      "Total params: 252,486\n",
      "Trainable params: 252,358\n",
      "Non-trainable params: 128\n",
      "_________________________________________________________________\n"
     ]
    }
   ],
   "source": [
    "model = Nvidia_CNN_original()\n",
    "model.build((1,200, 66, 3))\n",
    "model.summary()"
   ]
  },
  {
   "cell_type": "code",
   "execution_count": 19,
   "id": "f0c0202b",
   "metadata": {},
   "outputs": [],
   "source": [
    "def zoom(image):\n",
    "    zoom = img_aug.Affine(scale=(1, 1.2))  # zoom from 100% (no zoom) to 120%\n",
    "    image = zoom.augment_image(image)\n",
    "    return image\n",
    "\n",
    "def pan(image):\n",
    "    # pan left / right / up / down about 10%\n",
    "    pan = img_aug.Affine(translate_percent= {\"x\" : (-0.1, 0.1), \"y\": (-0.1, 0.1)})\n",
    "    image = pan.augment_image(image)\n",
    "    return image\n",
    "\n",
    "def adjust_brightness(image):\n",
    "    # increase or decrease brightness by 30%\n",
    "    brightness = img_aug.Multiply((0.7, 1.3))\n",
    "    image = brightness.augment_image(image)\n",
    "    return image\n",
    "\n",
    "def blur(image):\n",
    "    kernel_size = random.randint(1, 3)  # kernel larger than 5 would make the image way too blurry\n",
    "    image = cv2.blur(image,(kernel_size, kernel_size))\n",
    "    return image\n",
    "\n",
    "def random_augment(image):\n",
    "    if np.random.rand() < 0.5:\n",
    "        image = pan(image)\n",
    "    if np.random.rand() < 0.5:\n",
    "        image = zoom(image)\n",
    "    if np.random.rand() < 0.5:\n",
    "        image = blur(image)\n",
    "    if np.random.rand() < 0.5:\n",
    "        image = adjust_brightness(image)\n",
    "    return image"
   ]
  },
  {
   "cell_type": "code",
   "execution_count": 20,
   "id": "e528e9f6",
   "metadata": {},
   "outputs": [],
   "source": [
    "def random_flip(image):\n",
    "    is_flip = random.randint(0, 1)\n",
    "    if is_flip == 1:\n",
    "        image = cv2.flip(image,1)\n",
    "    return image, is_flip"
   ]
  },
  {
   "cell_type": "code",
   "execution_count": 21,
   "id": "fdaa3e19",
   "metadata": {},
   "outputs": [],
   "source": [
    "def custom_generator(df, batch_size, target_size, is_training):\n",
    "    while True:\n",
    "        # Shuffle the data\n",
    "        df = df.sample(frac=1).reset_index(drop=True)\n",
    "        for i in range(0, len(df), batch_size):\n",
    "            batch = df[i:i+batch_size]\n",
    "            # Load images and labels\n",
    "            images = []\n",
    "            angles = []\n",
    "            speeds = []\n",
    "            for _, row in batch.iterrows():\n",
    "                img = cv2.imread(row['images'])\n",
    "                angle = row['angle']\n",
    "                speed = row['speed']\n",
    "\n",
    "                if is_training:\n",
    "                    img = random_augment(img)\n",
    "                    img, is_flip = random_flip(img)\n",
    "                    if is_flip:\n",
    "                        angle = 1 - angle\n",
    "\n",
    "                img = cv2.cvtColor(img, cv2.COLOR_BGR2RGB)\n",
    "                img = cv2.resize(img, target_size)\n",
    "\n",
    "                images.append(img)\n",
    "                angles.append(angle)\n",
    "                speeds.append(speed)\n",
    "\n",
    "            # Normalize images\n",
    "            images = np.array(images) / 255.0\n",
    "            # Convert labels to arrays\n",
    "            angles = np.array(angles)\n",
    "            speeds = np.array(speeds)\n",
    "            yield images, {'output_1': angles, 'output_2': speeds}"
   ]
  },
  {
   "cell_type": "code",
   "execution_count": 23,
   "id": "8f0bf924",
   "metadata": {},
   "outputs": [
    {
     "name": "stdout",
     "output_type": "stream",
     "text": [
      "Epoch 1/80\n",
      "344/344 [==============================] - 46s 127ms/step - loss: 0.5436 - output_1_loss: 0.0543 - output_2_loss: 0.4893 - output_1_r_square: -0.5419 - output_2_accuracy: 0.7773 - val_loss: 0.6984 - val_output_1_loss: 0.2268 - val_output_2_loss: 0.4716 - val_output_1_r_square: -8.2953 - val_output_2_accuracy: 0.8652\n",
      "Epoch 2/80\n",
      "344/344 [==============================] - 44s 128ms/step - loss: 0.3057 - output_1_loss: 0.0445 - output_2_loss: 0.2612 - output_1_r_square: -0.2634 - output_2_accuracy: 0.9054 - val_loss: 0.2981 - val_output_1_loss: 0.0573 - val_output_2_loss: 0.2408 - val_output_1_r_square: -1.3484 - val_output_2_accuracy: 0.9048\n",
      "Epoch 3/80\n",
      "344/344 [==============================] - 44s 128ms/step - loss: 0.2409 - output_1_loss: 0.0349 - output_2_loss: 0.2060 - output_1_r_square: 0.0087 - output_2_accuracy: 0.9226 - val_loss: 0.3575 - val_output_1_loss: 0.0370 - val_output_2_loss: 0.3205 - val_output_1_r_square: -0.5188 - val_output_2_accuracy: 0.8594\n",
      "Epoch 4/80\n",
      "344/344 [==============================] - 44s 128ms/step - loss: 0.2092 - output_1_loss: 0.0303 - output_2_loss: 0.1789 - output_1_r_square: 0.1393 - output_2_accuracy: 0.9326 - val_loss: 0.1820 - val_output_1_loss: 0.0236 - val_output_2_loss: 0.1584 - val_output_1_r_square: 0.0315 - val_output_2_accuracy: 0.9408\n",
      "Epoch 5/80\n",
      "344/344 [==============================] - 44s 127ms/step - loss: 0.1810 - output_1_loss: 0.0276 - output_2_loss: 0.1534 - output_1_r_square: 0.2175 - output_2_accuracy: 0.9392 - val_loss: 0.1860 - val_output_1_loss: 0.0234 - val_output_2_loss: 0.1626 - val_output_1_r_square: 0.0375 - val_output_2_accuracy: 0.9404\n",
      "Epoch 6/80\n",
      "344/344 [==============================] - 44s 127ms/step - loss: 0.1694 - output_1_loss: 0.0254 - output_2_loss: 0.1440 - output_1_r_square: 0.2807 - output_2_accuracy: 0.9426 - val_loss: 0.1594 - val_output_1_loss: 0.0200 - val_output_2_loss: 0.1394 - val_output_1_r_square: 0.1807 - val_output_2_accuracy: 0.9484\n",
      "Epoch 7/80\n",
      "344/344 [==============================] - 44s 127ms/step - loss: 0.1571 - output_1_loss: 0.0241 - output_2_loss: 0.1330 - output_1_r_square: 0.3133 - output_2_accuracy: 0.9458 - val_loss: 0.1532 - val_output_1_loss: 0.0194 - val_output_2_loss: 0.1337 - val_output_1_r_square: 0.2023 - val_output_2_accuracy: 0.9473\n",
      "Epoch 8/80\n",
      "344/344 [==============================] - 44s 127ms/step - loss: 0.1444 - output_1_loss: 0.0219 - output_2_loss: 0.1225 - output_1_r_square: 0.3824 - output_2_accuracy: 0.9503 - val_loss: 0.2518 - val_output_1_loss: 0.0218 - val_output_2_loss: 0.2300 - val_output_1_r_square: 0.1030 - val_output_2_accuracy: 0.9335\n",
      "Epoch 9/80\n",
      "344/344 [==============================] - 44s 127ms/step - loss: 0.1418 - output_1_loss: 0.0213 - output_2_loss: 0.1205 - output_1_r_square: 0.3949 - output_2_accuracy: 0.9500 - val_loss: 0.1702 - val_output_1_loss: 0.0171 - val_output_2_loss: 0.1531 - val_output_1_r_square: 0.2996 - val_output_2_accuracy: 0.9419\n",
      "Epoch 10/80\n",
      "344/344 [==============================] - 44s 127ms/step - loss: 0.1351 - output_1_loss: 0.0199 - output_2_loss: 0.1152 - output_1_r_square: 0.4346 - output_2_accuracy: 0.9535 - val_loss: 0.1401 - val_output_1_loss: 0.0150 - val_output_2_loss: 0.1251 - val_output_1_r_square: 0.3858 - val_output_2_accuracy: 0.9546\n",
      "Epoch 11/80\n",
      "344/344 [==============================] - 44s 127ms/step - loss: 0.1296 - output_1_loss: 0.0191 - output_2_loss: 0.1104 - output_1_r_square: 0.4580 - output_2_accuracy: 0.9546 - val_loss: 0.1406 - val_output_1_loss: 0.0178 - val_output_2_loss: 0.1228 - val_output_1_r_square: 0.2712 - val_output_2_accuracy: 0.9560\n",
      "Epoch 12/80\n",
      "344/344 [==============================] - 44s 127ms/step - loss: 0.1273 - output_1_loss: 0.0187 - output_2_loss: 0.1086 - output_1_r_square: 0.4712 - output_2_accuracy: 0.9582 - val_loss: 0.1479 - val_output_1_loss: 0.0149 - val_output_2_loss: 0.1330 - val_output_1_r_square: 0.3910 - val_output_2_accuracy: 0.9491\n",
      "Epoch 13/80\n",
      "344/344 [==============================] - 44s 128ms/step - loss: 0.1237 - output_1_loss: 0.0178 - output_2_loss: 0.1058 - output_1_r_square: 0.4933 - output_2_accuracy: 0.9563 - val_loss: 0.1311 - val_output_1_loss: 0.0153 - val_output_2_loss: 0.1158 - val_output_1_r_square: 0.3712 - val_output_2_accuracy: 0.9568\n",
      "Epoch 14/80\n",
      "344/344 [==============================] - 44s 127ms/step - loss: 0.1160 - output_1_loss: 0.0174 - output_2_loss: 0.0986 - output_1_r_square: 0.5070 - output_2_accuracy: 0.9584 - val_loss: 0.1468 - val_output_1_loss: 0.0209 - val_output_2_loss: 0.1259 - val_output_1_r_square: 0.1408 - val_output_2_accuracy: 0.9473\n",
      "Epoch 15/80\n",
      "344/344 [==============================] - 44s 127ms/step - loss: 0.1100 - output_1_loss: 0.0170 - output_2_loss: 0.0930 - output_1_r_square: 0.5175 - output_2_accuracy: 0.9621 - val_loss: 0.1427 - val_output_1_loss: 0.0134 - val_output_2_loss: 0.1293 - val_output_1_r_square: 0.4510 - val_output_2_accuracy: 0.9535\n",
      "Epoch 16/80\n",
      "344/344 [==============================] - 44s 127ms/step - loss: 0.1087 - output_1_loss: 0.0167 - output_2_loss: 0.0920 - output_1_r_square: 0.5257 - output_2_accuracy: 0.9636 - val_loss: 0.1646 - val_output_1_loss: 0.0296 - val_output_2_loss: 0.1349 - val_output_1_r_square: -0.2171 - val_output_2_accuracy: 0.9604\n",
      "Epoch 17/80\n",
      "344/344 [==============================] - 44s 127ms/step - loss: 0.1080 - output_1_loss: 0.0165 - output_2_loss: 0.0915 - output_1_r_square: 0.5326 - output_2_accuracy: 0.9626 - val_loss: 0.1611 - val_output_1_loss: 0.0224 - val_output_2_loss: 0.1387 - val_output_1_r_square: 0.0816 - val_output_2_accuracy: 0.9557\n",
      "Epoch 18/80\n",
      "344/344 [==============================] - 44s 127ms/step - loss: 0.1012 - output_1_loss: 0.0155 - output_2_loss: 0.0857 - output_1_r_square: 0.5622 - output_2_accuracy: 0.9656 - val_loss: 0.1207 - val_output_1_loss: 0.0134 - val_output_2_loss: 0.1073 - val_output_1_r_square: 0.4504 - val_output_2_accuracy: 0.9611\n",
      "Epoch 19/80\n",
      "344/344 [==============================] - 44s 127ms/step - loss: 0.1007 - output_1_loss: 0.0152 - output_2_loss: 0.0855 - output_1_r_square: 0.5677 - output_2_accuracy: 0.9658 - val_loss: 0.1153 - val_output_1_loss: 0.0128 - val_output_2_loss: 0.1025 - val_output_1_r_square: 0.4757 - val_output_2_accuracy: 0.9629\n",
      "Epoch 20/80\n",
      "344/344 [==============================] - 44s 128ms/step - loss: 0.0996 - output_1_loss: 0.0153 - output_2_loss: 0.0843 - output_1_r_square: 0.5678 - output_2_accuracy: 0.9646 - val_loss: 0.1157 - val_output_1_loss: 0.0133 - val_output_2_loss: 0.1024 - val_output_1_r_square: 0.4544 - val_output_2_accuracy: 0.9662\n",
      "Epoch 21/80\n",
      "344/344 [==============================] - 44s 127ms/step - loss: 0.0982 - output_1_loss: 0.0147 - output_2_loss: 0.0835 - output_1_r_square: 0.5845 - output_2_accuracy: 0.9654 - val_loss: 0.1101 - val_output_1_loss: 0.0130 - val_output_2_loss: 0.0971 - val_output_1_r_square: 0.4680 - val_output_2_accuracy: 0.9618\n",
      "Epoch 22/80\n",
      "344/344 [==============================] - 44s 127ms/step - loss: 0.0920 - output_1_loss: 0.0143 - output_2_loss: 0.0776 - output_1_r_square: 0.5920 - output_2_accuracy: 0.9673 - val_loss: 0.1199 - val_output_1_loss: 0.0124 - val_output_2_loss: 0.1075 - val_output_1_r_square: 0.4934 - val_output_2_accuracy: 0.9618\n",
      "Epoch 23/80\n",
      "344/344 [==============================] - 44s 127ms/step - loss: 0.0942 - output_1_loss: 0.0145 - output_2_loss: 0.0797 - output_1_r_square: 0.5906 - output_2_accuracy: 0.9684 - val_loss: 0.1385 - val_output_1_loss: 0.0141 - val_output_2_loss: 0.1243 - val_output_1_r_square: 0.4200 - val_output_2_accuracy: 0.9622\n",
      "Epoch 24/80\n",
      "344/344 [==============================] - 44s 127ms/step - loss: 0.0907 - output_1_loss: 0.0139 - output_2_loss: 0.0768 - output_1_r_square: 0.6046 - output_2_accuracy: 0.9698 - val_loss: 0.1090 - val_output_1_loss: 0.0130 - val_output_2_loss: 0.0960 - val_output_1_r_square: 0.4659 - val_output_2_accuracy: 0.9644\n",
      "Epoch 25/80\n",
      "344/344 [==============================] - 44s 127ms/step - loss: 0.0888 - output_1_loss: 0.0139 - output_2_loss: 0.0749 - output_1_r_square: 0.6072 - output_2_accuracy: 0.9706 - val_loss: 0.1133 - val_output_1_loss: 0.0119 - val_output_2_loss: 0.1015 - val_output_1_r_square: 0.5128 - val_output_2_accuracy: 0.9640\n"
     ]
    },
    {
     "name": "stdout",
     "output_type": "stream",
     "text": [
      "Epoch 26/80\n",
      "344/344 [==============================] - 44s 128ms/step - loss: 0.0864 - output_1_loss: 0.0138 - output_2_loss: 0.0725 - output_1_r_square: 0.6090 - output_2_accuracy: 0.9704 - val_loss: 0.1331 - val_output_1_loss: 0.0141 - val_output_2_loss: 0.1190 - val_output_1_r_square: 0.4210 - val_output_2_accuracy: 0.9626\n",
      "Epoch 27/80\n",
      "344/344 [==============================] - 44s 128ms/step - loss: 0.0862 - output_1_loss: 0.0136 - output_2_loss: 0.0727 - output_1_r_square: 0.6129 - output_2_accuracy: 0.9720 - val_loss: 0.1238 - val_output_1_loss: 0.0143 - val_output_2_loss: 0.1095 - val_output_1_r_square: 0.4115 - val_output_2_accuracy: 0.9618\n",
      "Epoch 28/80\n",
      "344/344 [==============================] - 44s 128ms/step - loss: 0.0908 - output_1_loss: 0.0135 - output_2_loss: 0.0773 - output_1_r_square: 0.6180 - output_2_accuracy: 0.9683 - val_loss: 0.1098 - val_output_1_loss: 0.0155 - val_output_2_loss: 0.0943 - val_output_1_r_square: 0.3622 - val_output_2_accuracy: 0.9658\n",
      "Epoch 29/80\n",
      "344/344 [==============================] - 44s 127ms/step - loss: 0.0875 - output_1_loss: 0.0127 - output_2_loss: 0.0749 - output_1_r_square: 0.6410 - output_2_accuracy: 0.9699 - val_loss: 0.1000 - val_output_1_loss: 0.0111 - val_output_2_loss: 0.0889 - val_output_1_r_square: 0.5430 - val_output_2_accuracy: 0.9673\n",
      "Epoch 30/80\n",
      "344/344 [==============================] - 44s 127ms/step - loss: 0.0816 - output_1_loss: 0.0133 - output_2_loss: 0.0683 - output_1_r_square: 0.6233 - output_2_accuracy: 0.9729 - val_loss: 0.1188 - val_output_1_loss: 0.0127 - val_output_2_loss: 0.1061 - val_output_1_r_square: 0.4796 - val_output_2_accuracy: 0.9655\n",
      "Epoch 31/80\n",
      "344/344 [==============================] - 44s 127ms/step - loss: 0.0790 - output_1_loss: 0.0125 - output_2_loss: 0.0664 - output_1_r_square: 0.6424 - output_2_accuracy: 0.9747 - val_loss: 0.1034 - val_output_1_loss: 0.0109 - val_output_2_loss: 0.0924 - val_output_1_r_square: 0.5480 - val_output_2_accuracy: 0.9658\n",
      "Epoch 32/80\n",
      "344/344 [==============================] - 44s 128ms/step - loss: 0.0844 - output_1_loss: 0.0128 - output_2_loss: 0.0716 - output_1_r_square: 0.6387 - output_2_accuracy: 0.9730 - val_loss: 0.1014 - val_output_1_loss: 0.0124 - val_output_2_loss: 0.0890 - val_output_1_r_square: 0.4900 - val_output_2_accuracy: 0.9673\n",
      "Epoch 33/80\n",
      "344/344 [==============================] - 44s 127ms/step - loss: 0.0791 - output_1_loss: 0.0125 - output_2_loss: 0.0666 - output_1_r_square: 0.6452 - output_2_accuracy: 0.9723 - val_loss: 0.2427 - val_output_1_loss: 0.0171 - val_output_2_loss: 0.2256 - val_output_1_r_square: 0.2972 - val_output_2_accuracy: 0.9335\n",
      "Epoch 34/80\n",
      "344/344 [==============================] - 44s 128ms/step - loss: 0.0767 - output_1_loss: 0.0129 - output_2_loss: 0.0637 - output_1_r_square: 0.6357 - output_2_accuracy: 0.9747 - val_loss: 0.0980 - val_output_1_loss: 0.0115 - val_output_2_loss: 0.0864 - val_output_1_r_square: 0.5269 - val_output_2_accuracy: 0.9673\n",
      "Epoch 35/80\n",
      "344/344 [==============================] - 44s 128ms/step - loss: 0.0766 - output_1_loss: 0.0124 - output_2_loss: 0.0643 - output_1_r_square: 0.6472 - output_2_accuracy: 0.9753 - val_loss: 0.1004 - val_output_1_loss: 0.0106 - val_output_2_loss: 0.0898 - val_output_1_r_square: 0.5654 - val_output_2_accuracy: 0.9713\n",
      "Epoch 36/80\n",
      "344/344 [==============================] - 44s 127ms/step - loss: 0.0778 - output_1_loss: 0.0123 - output_2_loss: 0.0655 - output_1_r_square: 0.6519 - output_2_accuracy: 0.9753 - val_loss: 0.1042 - val_output_1_loss: 0.0184 - val_output_2_loss: 0.0858 - val_output_1_r_square: 0.2472 - val_output_2_accuracy: 0.9724\n",
      "Epoch 37/80\n",
      "344/344 [==============================] - 44s 128ms/step - loss: 0.0732 - output_1_loss: 0.0124 - output_2_loss: 0.0608 - output_1_r_square: 0.6478 - output_2_accuracy: 0.9757 - val_loss: 0.1010 - val_output_1_loss: 0.0120 - val_output_2_loss: 0.0890 - val_output_1_r_square: 0.5073 - val_output_2_accuracy: 0.9669\n",
      "Epoch 38/80\n",
      "344/344 [==============================] - 44s 127ms/step - loss: 0.0797 - output_1_loss: 0.0125 - output_2_loss: 0.0672 - output_1_r_square: 0.6477 - output_2_accuracy: 0.9736 - val_loss: 0.1004 - val_output_1_loss: 0.0120 - val_output_2_loss: 0.0884 - val_output_1_r_square: 0.5095 - val_output_2_accuracy: 0.9677\n",
      "Epoch 39/80\n",
      "344/344 [==============================] - 44s 127ms/step - loss: 0.0716 - output_1_loss: 0.0121 - output_2_loss: 0.0595 - output_1_r_square: 0.6579 - output_2_accuracy: 0.9762 - val_loss: 0.1173 - val_output_1_loss: 0.0144 - val_output_2_loss: 0.1029 - val_output_1_r_square: 0.4108 - val_output_2_accuracy: 0.9644\n",
      "Epoch 40/80\n",
      "344/344 [==============================] - 44s 127ms/step - loss: 0.0718 - output_1_loss: 0.0118 - output_2_loss: 0.0600 - output_1_r_square: 0.6643 - output_2_accuracy: 0.9766 - val_loss: 0.0989 - val_output_1_loss: 0.0115 - val_output_2_loss: 0.0874 - val_output_1_r_square: 0.5278 - val_output_2_accuracy: 0.9677\n",
      "Epoch 41/80\n",
      "344/344 [==============================] - 44s 128ms/step - loss: 0.0735 - output_1_loss: 0.0117 - output_2_loss: 0.0618 - output_1_r_square: 0.6692 - output_2_accuracy: 0.9756 - val_loss: 0.1032 - val_output_1_loss: 0.0104 - val_output_2_loss: 0.0928 - val_output_1_r_square: 0.5723 - val_output_2_accuracy: 0.9709\n",
      "Epoch 42/80\n",
      "344/344 [==============================] - 44s 128ms/step - loss: 0.0704 - output_1_loss: 0.0116 - output_2_loss: 0.0588 - output_1_r_square: 0.6670 - output_2_accuracy: 0.9766 - val_loss: 0.0958 - val_output_1_loss: 0.0113 - val_output_2_loss: 0.0845 - val_output_1_r_square: 0.5349 - val_output_2_accuracy: 0.9666\n",
      "Epoch 43/80\n",
      "344/344 [==============================] - 44s 128ms/step - loss: 0.0712 - output_1_loss: 0.0119 - output_2_loss: 0.0594 - output_1_r_square: 0.6640 - output_2_accuracy: 0.9763 - val_loss: 0.0989 - val_output_1_loss: 0.0103 - val_output_2_loss: 0.0886 - val_output_1_r_square: 0.5766 - val_output_2_accuracy: 0.9669\n",
      "Epoch 44/80\n",
      "344/344 [==============================] - 44s 127ms/step - loss: 0.0668 - output_1_loss: 0.0115 - output_2_loss: 0.0553 - output_1_r_square: 0.6743 - output_2_accuracy: 0.9785 - val_loss: 0.1048 - val_output_1_loss: 0.0138 - val_output_2_loss: 0.0909 - val_output_1_r_square: 0.4340 - val_output_2_accuracy: 0.9698\n",
      "Epoch 45/80\n",
      "344/344 [==============================] - 44s 128ms/step - loss: 0.0694 - output_1_loss: 0.0115 - output_2_loss: 0.0579 - output_1_r_square: 0.6737 - output_2_accuracy: 0.9779 - val_loss: 0.0965 - val_output_1_loss: 0.0104 - val_output_2_loss: 0.0861 - val_output_1_r_square: 0.5752 - val_output_2_accuracy: 0.9684\n",
      "Epoch 46/80\n",
      "344/344 [==============================] - 44s 128ms/step - loss: 0.0639 - output_1_loss: 0.0114 - output_2_loss: 0.0526 - output_1_r_square: 0.6789 - output_2_accuracy: 0.9786 - val_loss: 0.1081 - val_output_1_loss: 0.0133 - val_output_2_loss: 0.0947 - val_output_1_r_square: 0.4524 - val_output_2_accuracy: 0.9666\n",
      "Epoch 47/80\n",
      "344/344 [==============================] - 44s 128ms/step - loss: 0.0675 - output_1_loss: 0.0112 - output_2_loss: 0.0563 - output_1_r_square: 0.6824 - output_2_accuracy: 0.9785 - val_loss: 0.1020 - val_output_1_loss: 0.0112 - val_output_2_loss: 0.0909 - val_output_1_r_square: 0.5420 - val_output_2_accuracy: 0.9717\n",
      "Epoch 48/80\n",
      "344/344 [==============================] - 44s 127ms/step - loss: 0.0639 - output_1_loss: 0.0111 - output_2_loss: 0.0527 - output_1_r_square: 0.6839 - output_2_accuracy: 0.9801 - val_loss: 0.0926 - val_output_1_loss: 0.0100 - val_output_2_loss: 0.0827 - val_output_1_r_square: 0.5917 - val_output_2_accuracy: 0.9720\n",
      "Epoch 49/80\n",
      "344/344 [==============================] - 44s 128ms/step - loss: 0.0659 - output_1_loss: 0.0108 - output_2_loss: 0.0550 - output_1_r_square: 0.6908 - output_2_accuracy: 0.9795 - val_loss: 0.1209 - val_output_1_loss: 0.0107 - val_output_2_loss: 0.1102 - val_output_1_r_square: 0.5606 - val_output_2_accuracy: 0.9695\n",
      "Epoch 50/80\n",
      "344/344 [==============================] - 44s 128ms/step - loss: 0.0595 - output_1_loss: 0.0110 - output_2_loss: 0.0484 - output_1_r_square: 0.6897 - output_2_accuracy: 0.9815 - val_loss: 0.1191 - val_output_1_loss: 0.0109 - val_output_2_loss: 0.1082 - val_output_1_r_square: 0.5542 - val_output_2_accuracy: 0.9633\n"
     ]
    },
    {
     "name": "stdout",
     "output_type": "stream",
     "text": [
      "Epoch 51/80\n",
      "344/344 [==============================] - 44s 128ms/step - loss: 0.0631 - output_1_loss: 0.0113 - output_2_loss: 0.0518 - output_1_r_square: 0.6806 - output_2_accuracy: 0.9773 - val_loss: 0.1105 - val_output_1_loss: 0.0109 - val_output_2_loss: 0.0996 - val_output_1_r_square: 0.5544 - val_output_2_accuracy: 0.9684\n",
      "Epoch 52/80\n",
      "344/344 [==============================] - 44s 129ms/step - loss: 0.0603 - output_1_loss: 0.0108 - output_2_loss: 0.0495 - output_1_r_square: 0.6920 - output_2_accuracy: 0.9806 - val_loss: 0.0824 - val_output_1_loss: 0.0102 - val_output_2_loss: 0.0722 - val_output_1_r_square: 0.5823 - val_output_2_accuracy: 0.9767\n",
      "Epoch 53/80\n",
      "344/344 [==============================] - 44s 128ms/step - loss: 0.0552 - output_1_loss: 0.0109 - output_2_loss: 0.0443 - output_1_r_square: 0.6917 - output_2_accuracy: 0.9833 - val_loss: 0.0862 - val_output_1_loss: 0.0103 - val_output_2_loss: 0.0760 - val_output_1_r_square: 0.5792 - val_output_2_accuracy: 0.9760\n",
      "Epoch 54/80\n",
      "344/344 [==============================] - 44s 129ms/step - loss: 0.0627 - output_1_loss: 0.0110 - output_2_loss: 0.0518 - output_1_r_square: 0.6888 - output_2_accuracy: 0.9798 - val_loss: 0.1922 - val_output_1_loss: 0.0129 - val_output_2_loss: 0.1794 - val_output_1_r_square: 0.4738 - val_output_2_accuracy: 0.9608\n",
      "Epoch 55/80\n",
      "344/344 [==============================] - 44s 128ms/step - loss: 0.0569 - output_1_loss: 0.0107 - output_2_loss: 0.0462 - output_1_r_square: 0.6952 - output_2_accuracy: 0.9823 - val_loss: 0.0972 - val_output_1_loss: 0.0105 - val_output_2_loss: 0.0867 - val_output_1_r_square: 0.5705 - val_output_2_accuracy: 0.9735\n",
      "Epoch 56/80\n",
      "344/344 [==============================] - 45s 132ms/step - loss: 0.0585 - output_1_loss: 0.0109 - output_2_loss: 0.0476 - output_1_r_square: 0.6929 - output_2_accuracy: 0.9826 - val_loss: 0.0832 - val_output_1_loss: 0.0108 - val_output_2_loss: 0.0724 - val_output_1_r_square: 0.5593 - val_output_2_accuracy: 0.9746\n",
      "Epoch 57/80\n",
      "344/344 [==============================] - 44s 128ms/step - loss: 0.0602 - output_1_loss: 0.0106 - output_2_loss: 0.0495 - output_1_r_square: 0.6966 - output_2_accuracy: 0.9817 - val_loss: 0.0813 - val_output_1_loss: 0.0098 - val_output_2_loss: 0.0716 - val_output_1_r_square: 0.6002 - val_output_2_accuracy: 0.9760\n",
      "Epoch 58/80\n",
      "344/344 [==============================] - 44s 128ms/step - loss: 0.0585 - output_1_loss: 0.0109 - output_2_loss: 0.0476 - output_1_r_square: 0.6914 - output_2_accuracy: 0.9825 - val_loss: 0.0878 - val_output_1_loss: 0.0103 - val_output_2_loss: 0.0775 - val_output_1_r_square: 0.5784 - val_output_2_accuracy: 0.9746\n",
      "Epoch 59/80\n",
      "344/344 [==============================] - 44s 128ms/step - loss: 0.0546 - output_1_loss: 0.0106 - output_2_loss: 0.0440 - output_1_r_square: 0.6970 - output_2_accuracy: 0.9832 - val_loss: 0.0796 - val_output_1_loss: 0.0098 - val_output_2_loss: 0.0698 - val_output_1_r_square: 0.5954 - val_output_2_accuracy: 0.9698\n",
      "Epoch 60/80\n",
      "344/344 [==============================] - 44s 127ms/step - loss: 0.0565 - output_1_loss: 0.0106 - output_2_loss: 0.0459 - output_1_r_square: 0.7011 - output_2_accuracy: 0.9822 - val_loss: 0.0984 - val_output_1_loss: 0.0103 - val_output_2_loss: 0.0881 - val_output_1_r_square: 0.5797 - val_output_2_accuracy: 0.9720\n",
      "Epoch 61/80\n",
      "344/344 [==============================] - 44s 128ms/step - loss: 0.0548 - output_1_loss: 0.0106 - output_2_loss: 0.0442 - output_1_r_square: 0.6980 - output_2_accuracy: 0.9827 - val_loss: 0.0772 - val_output_1_loss: 0.0100 - val_output_2_loss: 0.0671 - val_output_1_r_square: 0.5885 - val_output_2_accuracy: 0.9767\n",
      "Epoch 62/80\n",
      "344/344 [==============================] - 44s 127ms/step - loss: 0.0543 - output_1_loss: 0.0103 - output_2_loss: 0.0440 - output_1_r_square: 0.7120 - output_2_accuracy: 0.9839 - val_loss: 0.0981 - val_output_1_loss: 0.0104 - val_output_2_loss: 0.0877 - val_output_1_r_square: 0.5754 - val_output_2_accuracy: 0.9735\n",
      "Epoch 63/80\n",
      "344/344 [==============================] - 44s 127ms/step - loss: 0.0533 - output_1_loss: 0.0104 - output_2_loss: 0.0429 - output_1_r_square: 0.7002 - output_2_accuracy: 0.9834 - val_loss: 0.0847 - val_output_1_loss: 0.0104 - val_output_2_loss: 0.0743 - val_output_1_r_square: 0.5723 - val_output_2_accuracy: 0.9749\n",
      "Epoch 64/80\n",
      "344/344 [==============================] - 44s 128ms/step - loss: 0.0567 - output_1_loss: 0.0103 - output_2_loss: 0.0464 - output_1_r_square: 0.7086 - output_2_accuracy: 0.9821 - val_loss: 0.1073 - val_output_1_loss: 0.0098 - val_output_2_loss: 0.0976 - val_output_1_r_square: 0.5989 - val_output_2_accuracy: 0.9738\n",
      "Epoch 65/80\n",
      "344/344 [==============================] - 44s 128ms/step - loss: 0.0522 - output_1_loss: 0.0104 - output_2_loss: 0.0418 - output_1_r_square: 0.7063 - output_2_accuracy: 0.9831 - val_loss: 0.0868 - val_output_1_loss: 0.0106 - val_output_2_loss: 0.0761 - val_output_1_r_square: 0.5641 - val_output_2_accuracy: 0.9717\n",
      "Epoch 66/80\n",
      "344/344 [==============================] - 44s 127ms/step - loss: 0.0519 - output_1_loss: 0.0105 - output_2_loss: 0.0414 - output_1_r_square: 0.7046 - output_2_accuracy: 0.9842 - val_loss: 0.0977 - val_output_1_loss: 0.0108 - val_output_2_loss: 0.0868 - val_output_1_r_square: 0.5556 - val_output_2_accuracy: 0.9749\n",
      "Epoch 67/80\n",
      "344/344 [==============================] - 44s 127ms/step - loss: 0.0535 - output_1_loss: 0.0101 - output_2_loss: 0.0435 - output_1_r_square: 0.7104 - output_2_accuracy: 0.9836 - val_loss: 0.1068 - val_output_1_loss: 0.0119 - val_output_2_loss: 0.0949 - val_output_1_r_square: 0.5112 - val_output_2_accuracy: 0.9764\n",
      "Epoch 68/80\n",
      "344/344 [==============================] - 49s 142ms/step - loss: 0.0534 - output_1_loss: 0.0103 - output_2_loss: 0.0431 - output_1_r_square: 0.7086 - output_2_accuracy: 0.9841 - val_loss: 0.1253 - val_output_1_loss: 0.0142 - val_output_2_loss: 0.1111 - val_output_1_r_square: 0.4187 - val_output_2_accuracy: 0.9560\n",
      "Epoch 69/80\n",
      "344/344 [==============================] - 44s 128ms/step - loss: 0.0536 - output_1_loss: 0.0101 - output_2_loss: 0.0435 - output_1_r_square: 0.7143 - output_2_accuracy: 0.9832 - val_loss: 0.0954 - val_output_1_loss: 0.0100 - val_output_2_loss: 0.0854 - val_output_1_r_square: 0.5883 - val_output_2_accuracy: 0.9757\n",
      "Epoch 70/80\n",
      "344/344 [==============================] - 44s 127ms/step - loss: 0.0500 - output_1_loss: 0.0102 - output_2_loss: 0.0398 - output_1_r_square: 0.7112 - output_2_accuracy: 0.9848 - val_loss: 0.1072 - val_output_1_loss: 0.0112 - val_output_2_loss: 0.0960 - val_output_1_r_square: 0.5416 - val_output_2_accuracy: 0.9644\n",
      "Epoch 71/80\n",
      "344/344 [==============================] - 44s 127ms/step - loss: 0.0503 - output_1_loss: 0.0102 - output_2_loss: 0.0400 - output_1_r_square: 0.7096 - output_2_accuracy: 0.9861 - val_loss: 0.0933 - val_output_1_loss: 0.0092 - val_output_2_loss: 0.0840 - val_output_1_r_square: 0.6207 - val_output_2_accuracy: 0.9760\n"
     ]
    },
    {
     "name": "stderr",
     "output_type": "stream",
     "text": [
      "WARNING:absl:Found untraced functions such as _jit_compiled_convolution_op, _jit_compiled_convolution_op, _jit_compiled_convolution_op, _jit_compiled_convolution_op, _jit_compiled_convolution_op while saving (showing 5 of 6). These functions will not be directly callable after loading.\n"
     ]
    },
    {
     "name": "stdout",
     "output_type": "stream",
     "text": [
      "INFO:tensorflow:Assets written to: model/Nvidia_CNN_original/assets\n"
     ]
    },
    {
     "name": "stderr",
     "output_type": "stream",
     "text": [
      "INFO:tensorflow:Assets written to: model/Nvidia_CNN_original/assets\n"
     ]
    }
   ],
   "source": [
    "tf.keras.backend.clear_session()\n",
    "\n",
    "# Early stop added\n",
    "callback = tf.keras.callbacks.EarlyStopping(monitor='val_loss', patience=10)\n",
    "\n",
    "train_gen = custom_generator(X_train, batch_size=32 ,target_size=(200, 66), is_training= True)\n",
    "val_gen = custom_generator(X_valid, batch_size=32, target_size=(200, 66), is_training= False)\n",
    "\n",
    "model = Nvidia_CNN_original()\n",
    "\n",
    "model.compile(optimizer=tf.keras.optimizers.Adam(learning_rate=1e-4),\n",
    "                       loss={\n",
    "        \"output_1\" : tf.keras.losses.MeanSquaredError(),\n",
    "        \"output_2\" : tf.keras.losses.BinaryCrossentropy(from_logits=False)},\n",
    "        metrics={\"output_1\": [RSquare()], \"output_2\": 'accuracy'})\n",
    "\n",
    "\n",
    "history = model.fit(train_gen,\n",
    "                    steps_per_epoch=len(X_train) // 32,\n",
    "                    validation_data=val_gen,\n",
    "                    validation_steps=len(X_valid) // 32,\n",
    "                    callbacks=[callback],\n",
    "                    epochs=80)\n",
    "\n",
    "model.save('model/Nvidia_CNN_original',save_format='tf')\n",
    "\n",
    "history_path = os.path.join('history.pickle')\n",
    "with open(history_path, 'wb') as f:\n",
    "    pickle.dump(history.history, f, pickle.HIGHEST_PROTOCOL)"
   ]
  },
  {
   "cell_type": "code",
   "execution_count": 24,
   "id": "14e15b9d",
   "metadata": {},
   "outputs": [],
   "source": [
    "history_path = os.path.join('history.pickle')\n",
    "with open(history_path, 'rb') as f:\n",
    "    history = pickle.load(f)\n",
    "\n",
    "def plots(history):\n",
    "    # summarize history for accuracy\n",
    "    fig, ((ax1, ax2),(ax3, ax4)) = plt.subplots(2, 2, sharex=True, figsize=(10,6))\n",
    "    \n",
    "    ax1.set_title('Angle R Squared')\n",
    "    ax1.plot(history['output_1_r_square'])\n",
    "    ax1.plot(history['val_output_1_r_square'])\n",
    "    ax1.set_yscale('log')\n",
    "    ax1.legend(['train', 'test'], loc='lower right')\n",
    "    \n",
    "    ax2.set_title('Speed Accuracy')\n",
    "    ax2.plot(history['output_2_accuracy'])\n",
    "    ax2.plot(history['val_output_2_accuracy'])\n",
    "    ax2.set_yscale('log')\n",
    "    ax2.legend(['train', 'test'], loc='lower right')\n",
    "    \n",
    "    # summarize history for loss\n",
    "    ax3.set_title('Angle MSE loss')  \n",
    "    ax3.plot(history['output_1_loss'])\n",
    "    ax3.plot(history['val_output_1_loss'])\n",
    "    ax3.set_yscale('log')\n",
    "    ax3.legend(['train', 'test'], loc='upper right')\n",
    "   \n",
    "    ax4.set_title('Speed loss')\n",
    "    ax4.plot(history['output_2_loss'])\n",
    "    ax4.plot(history['val_output_2_loss'])\n",
    "    ax4.set_yscale('log')\n",
    "    ax4.legend(['train', 'test'], loc='upper right')\n",
    "    plt.show()\n",
    "    \n",
    "    \n",
    "    plt.plot(history['loss'])\n",
    "    plt.plot(history['val_loss'])\n",
    "    plt.title('model loss')\n",
    "    plt.ylabel('loss')\n",
    "    plt.xlabel('epoch')\n",
    "    plt.legend(['train', 'test'], loc='upper left')\n",
    "    plt.show()\n",
    "    "
   ]
  },
  {
   "cell_type": "code",
   "execution_count": 25,
   "id": "0b23bbb7",
   "metadata": {
    "scrolled": true
   },
   "outputs": [
    {
     "data": {
      "image/png": "[encoded data removed]",
      "text/plain": [
       "<Figure size 720x432 with 4 Axes>"
      ]
     },
     "metadata": {
      "needs_background": "light"
     },
     "output_type": "display_data"
    },
    {
     "data": {
      "image/png": "[encoded data removed]",
      "text/plain": [
       "<Figure size 432x288 with 1 Axes>"
      ]
     },
     "metadata": {
      "needs_background": "light"
     },
     "output_type": "display_data"
    }
   ],
   "source": [
    "plots(history)"
   ]
  },
  {
   "cell_type": "markdown",
   "id": "0db0bc56",
   "metadata": {},
   "source": [
    "# Evaluation using validation set"
   ]
  },
  {
   "cell_type": "code",
   "execution_count": 26,
   "id": "b97f2834",
   "metadata": {},
   "outputs": [],
   "source": [
    "def validation_generator(df, batch_size, target_size):\n",
    "    while True:\n",
    "\n",
    "        for i in range(0, len(df), batch_size):\n",
    "            batch = df\n",
    "            # Load images and labels\n",
    "            images = []\n",
    "            for _, row in batch.iterrows():\n",
    "                img = cv2.imread(row['images'])\n",
    "                img = cv2.cvtColor(img, cv2.COLOR_BGR2RGB)\n",
    "                img = cv2.resize(img, target_size)\n",
    "                images.append(img)\n",
    "\n",
    "            images = np.array(images) / 255.0\n",
    "\n",
    "            yield images"
   ]
  },
  {
   "cell_type": "code",
   "execution_count": 29,
   "id": "2f03066a",
   "metadata": {},
   "outputs": [
    {
     "name": "stdout",
     "output_type": "stream",
     "text": [
      "87/87 [==============================] - 1s 8ms/step\n",
      "(array([[0.7312049 ],\n",
      "       [0.5381378 ],\n",
      "       [0.48972076],\n",
      "       ...,\n",
      "       [0.46815056],\n",
      "       [0.5107111 ],\n",
      "       [0.49847776]], dtype=float32), array([[1.07788386e-04],\n",
      "       [1.53424815e-04],\n",
      "       [9.99999702e-01],\n",
      "       ...,\n",
      "       [9.99289989e-01],\n",
      "       [9.99999225e-01],\n",
      "       [9.99999166e-01]], dtype=float32))\n"
     ]
    }
   ],
   "source": [
    "from keras.models import load_model\n",
    "model = load_model('model/Nvidia_CNN_original')\n",
    "valgen = next(validation_generator(X_valid, batch_size=2759, target_size=(200, 66)))\n",
    "predict = model.predict(valgen)\n",
    "print(predict)"
   ]
  },
  {
   "cell_type": "code",
   "execution_count": 50,
   "id": "e223d609",
   "metadata": {},
   "outputs": [
    {
     "data": {
      "text/html": [
       "<div>\n",
       "<style scoped>\n",
       "    .dataframe tbody tr th:only-of-type {\n",
       "        vertical-align: middle;\n",
       "    }\n",
       "\n",
       "    .dataframe tbody tr th {\n",
       "        vertical-align: top;\n",
       "    }\n",
       "\n",
       "    .dataframe thead th {\n",
       "        text-align: right;\n",
       "    }\n",
       "</style>\n",
       "<table border=\"1\" class=\"dataframe\">\n",
       "  <thead>\n",
       "    <tr style=\"text-align: right;\">\n",
       "      <th></th>\n",
       "      <th>image_id</th>\n",
       "      <th>angle</th>\n",
       "      <th>speed</th>\n",
       "    </tr>\n",
       "  </thead>\n",
       "  <tbody>\n",
       "    <tr>\n",
       "      <th>0</th>\n",
       "      <td>1</td>\n",
       "      <td>0.731205</td>\n",
       "      <td>1.077884e-04</td>\n",
       "    </tr>\n",
       "    <tr>\n",
       "      <th>1</th>\n",
       "      <td>2</td>\n",
       "      <td>0.538138</td>\n",
       "      <td>1.534248e-04</td>\n",
       "    </tr>\n",
       "    <tr>\n",
       "      <th>2</th>\n",
       "      <td>3</td>\n",
       "      <td>0.489721</td>\n",
       "      <td>9.999997e-01</td>\n",
       "    </tr>\n",
       "    <tr>\n",
       "      <th>3</th>\n",
       "      <td>4</td>\n",
       "      <td>0.521538</td>\n",
       "      <td>8.937090e-08</td>\n",
       "    </tr>\n",
       "    <tr>\n",
       "      <th>4</th>\n",
       "      <td>5</td>\n",
       "      <td>0.763163</td>\n",
       "      <td>9.999982e-01</td>\n",
       "    </tr>\n",
       "  </tbody>\n",
       "</table>\n",
       "</div>"
      ],
      "text/plain": [
       "   image_id     angle         speed\n",
       "0         1  0.731205  1.077884e-04\n",
       "1         2  0.538138  1.534248e-04\n",
       "2         3  0.489721  9.999997e-01\n",
       "3         4  0.521538  8.937090e-08\n",
       "4         5  0.763163  9.999982e-01"
      ]
     },
     "execution_count": 50,
     "metadata": {},
     "output_type": "execute_result"
    }
   ],
   "source": [
    "angles = pd.DataFrame(predict[0], columns=['angle'])\n",
    "speed = pd.DataFrame(predict[1], columns=['speed'])\n",
    "pred_df = pd.concat([angles, speed],axis=1)\n",
    "pred_df.insert(0,\"image_id\", np.arange(1,len(pred_df)+1))\n",
    "\n",
    "pred_df.head()"
   ]
  },
  {
   "cell_type": "code",
   "execution_count": 51,
   "id": "66a1f50b",
   "metadata": {},
   "outputs": [
    {
     "data": {
      "text/plain": [
       "(2759, 3)"
      ]
     },
     "execution_count": 51,
     "metadata": {},
     "output_type": "execute_result"
    }
   ],
   "source": [
    "pred_df.shape"
   ]
  },
  {
   "cell_type": "markdown",
   "id": "8f7dac8c",
   "metadata": {},
   "source": [
    "### MSE before round"
   ]
  },
  {
   "cell_type": "code",
   "execution_count": 52,
   "id": "312da6d9",
   "metadata": {},
   "outputs": [
    {
     "name": "stdout",
     "output_type": "stream",
     "text": [
      "mse angle: 0.009229736402630806\n",
      "mse speed: 0.019537225365638733\n"
     ]
    }
   ],
   "source": [
    "mse = tf.keras.losses.MeanSquaredError()\n",
    "angle_mse = mse(X_valid['angle'], pred_df['angle']).numpy()\n",
    "speed_mse = mse(X_valid['speed'], pred_df['speed']).numpy()\n",
    "print(f'mse angle: {angle_mse}\\nmse speed: {speed_mse}')"
   ]
  },
  {
   "cell_type": "code",
   "execution_count": 53,
   "id": "57140ae4",
   "metadata": {},
   "outputs": [
    {
     "name": "stdout",
     "output_type": "stream",
     "text": [
      "Total mse: 0.02876696176826954\n"
     ]
    }
   ],
   "source": [
    "total_mse = angle_mse + speed_mse\n",
    "print(f'Total mse: {total_mse}')"
   ]
  },
  {
   "cell_type": "code",
   "execution_count": 55,
   "id": "ac00d24d",
   "metadata": {},
   "outputs": [
    {
     "data": {
      "text/html": [
       "<div>\n",
       "<style scoped>\n",
       "    .dataframe tbody tr th:only-of-type {\n",
       "        vertical-align: middle;\n",
       "    }\n",
       "\n",
       "    .dataframe tbody tr th {\n",
       "        vertical-align: top;\n",
       "    }\n",
       "\n",
       "    .dataframe thead th {\n",
       "        text-align: right;\n",
       "    }\n",
       "</style>\n",
       "<table border=\"1\" class=\"dataframe\">\n",
       "  <thead>\n",
       "    <tr style=\"text-align: right;\">\n",
       "      <th></th>\n",
       "      <th>image_id</th>\n",
       "      <th>angle</th>\n",
       "      <th>speed</th>\n",
       "    </tr>\n",
       "  </thead>\n",
       "  <tbody>\n",
       "    <tr>\n",
       "      <th>0</th>\n",
       "      <td>1</td>\n",
       "      <td>0.7312</td>\n",
       "      <td>0.0</td>\n",
       "    </tr>\n",
       "    <tr>\n",
       "      <th>1</th>\n",
       "      <td>2</td>\n",
       "      <td>0.5381</td>\n",
       "      <td>0.0</td>\n",
       "    </tr>\n",
       "    <tr>\n",
       "      <th>2</th>\n",
       "      <td>3</td>\n",
       "      <td>0.4897</td>\n",
       "      <td>1.0</td>\n",
       "    </tr>\n",
       "    <tr>\n",
       "      <th>3</th>\n",
       "      <td>4</td>\n",
       "      <td>0.5215</td>\n",
       "      <td>0.0</td>\n",
       "    </tr>\n",
       "    <tr>\n",
       "      <th>4</th>\n",
       "      <td>5</td>\n",
       "      <td>0.7632</td>\n",
       "      <td>1.0</td>\n",
       "    </tr>\n",
       "  </tbody>\n",
       "</table>\n",
       "</div>"
      ],
      "text/plain": [
       "   image_id   angle  speed\n",
       "0         1  0.7312    0.0\n",
       "1         2  0.5381    0.0\n",
       "2         3  0.4897    1.0\n",
       "3         4  0.5215    0.0\n",
       "4         5  0.7632    1.0"
      ]
     },
     "execution_count": 55,
     "metadata": {},
     "output_type": "execute_result"
    }
   ],
   "source": [
    "pred_df_rnd = pred_df.round({'angle': 4,'speed': 0})\n",
    "pred_df_rnd.head()"
   ]
  },
  {
   "cell_type": "code",
   "execution_count": 57,
   "id": "23a64ac7",
   "metadata": {},
   "outputs": [
    {
     "name": "stdout",
     "output_type": "stream",
     "text": [
      "mse angle: 0.009229966439306736\n",
      "mse speed: 0.02392171137034893\n"
     ]
    }
   ],
   "source": [
    "angle_mse = mse(X_valid['angle'], pred_df_rnd['angle']).numpy()\n",
    "speed_mse = mse(X_valid['speed'], pred_df_rnd['speed']).numpy()\n",
    "print(f'mse angle: {angle_mse}\\nmse speed: {speed_mse}')"
   ]
  },
  {
   "cell_type": "code",
   "execution_count": 58,
   "id": "45f0bc46",
   "metadata": {},
   "outputs": [
    {
     "name": "stdout",
     "output_type": "stream",
     "text": [
      "Total mse: 0.03315167874097824\n"
     ]
    }
   ],
   "source": [
    "total_mse = angle_mse + speed_mse\n",
    "print(f'Total mse: {total_mse}')"
   ]
  },
  {
   "cell_type": "code",
   "execution_count": 34,
   "id": "cdb09caa",
   "metadata": {},
   "outputs": [
    {
     "data": {
      "text/html": [
       "<div>\n",
       "<style scoped>\n",
       "    .dataframe tbody tr th:only-of-type {\n",
       "        vertical-align: middle;\n",
       "    }\n",
       "\n",
       "    .dataframe tbody tr th {\n",
       "        vertical-align: top;\n",
       "    }\n",
       "\n",
       "    .dataframe thead th {\n",
       "        text-align: right;\n",
       "    }\n",
       "</style>\n",
       "<table border=\"1\" class=\"dataframe\">\n",
       "  <thead>\n",
       "    <tr style=\"text-align: right;\">\n",
       "      <th></th>\n",
       "      <th>image_id</th>\n",
       "      <th>Angle</th>\n",
       "      <th>speed</th>\n",
       "    </tr>\n",
       "  </thead>\n",
       "  <tbody>\n",
       "    <tr>\n",
       "      <th>0</th>\n",
       "      <td>1</td>\n",
       "      <td>0.731205</td>\n",
       "      <td>0</td>\n",
       "    </tr>\n",
       "    <tr>\n",
       "      <th>1</th>\n",
       "      <td>2</td>\n",
       "      <td>0.538138</td>\n",
       "      <td>0</td>\n",
       "    </tr>\n",
       "    <tr>\n",
       "      <th>2</th>\n",
       "      <td>3</td>\n",
       "      <td>0.489721</td>\n",
       "      <td>1</td>\n",
       "    </tr>\n",
       "    <tr>\n",
       "      <th>3</th>\n",
       "      <td>4</td>\n",
       "      <td>0.521538</td>\n",
       "      <td>0</td>\n",
       "    </tr>\n",
       "    <tr>\n",
       "      <th>4</th>\n",
       "      <td>5</td>\n",
       "      <td>0.763163</td>\n",
       "      <td>1</td>\n",
       "    </tr>\n",
       "  </tbody>\n",
       "</table>\n",
       "</div>"
      ],
      "text/plain": [
       "   image_id     Angle  speed\n",
       "0         1  0.731205      0\n",
       "1         2  0.538138      0\n",
       "2         3  0.489721      1\n",
       "3         4  0.521538      0\n",
       "4         5  0.763163      1"
      ]
     },
     "execution_count": 34,
     "metadata": {},
     "output_type": "execute_result"
    }
   ],
   "source": [
    "pred_df_rnd['speed'] = pd.to_numeric(pred_df_rnd['speed'],downcast=\"integer\" )\n",
    "pred_df_rnd.head()"
   ]
  },
  {
   "cell_type": "code",
   "execution_count": 35,
   "id": "4b04b62a",
   "metadata": {},
   "outputs": [
    {
     "data": {
      "text/html": [
       "<div>\n",
       "<style scoped>\n",
       "    .dataframe tbody tr th:only-of-type {\n",
       "        vertical-align: middle;\n",
       "    }\n",
       "\n",
       "    .dataframe tbody tr th {\n",
       "        vertical-align: top;\n",
       "    }\n",
       "\n",
       "    .dataframe thead th {\n",
       "        text-align: right;\n",
       "    }\n",
       "</style>\n",
       "<table border=\"1\" class=\"dataframe\">\n",
       "  <thead>\n",
       "    <tr style=\"text-align: right;\">\n",
       "      <th></th>\n",
       "      <th>angle</th>\n",
       "      <th>speed</th>\n",
       "      <th>images</th>\n",
       "    </tr>\n",
       "  </thead>\n",
       "  <tbody>\n",
       "    <tr>\n",
       "      <th>8072</th>\n",
       "      <td>0.7500</td>\n",
       "      <td>0</td>\n",
       "      <td>../datasets/PiCar/train/training_data/8076.png</td>\n",
       "    </tr>\n",
       "    <tr>\n",
       "      <th>9864</th>\n",
       "      <td>0.5625</td>\n",
       "      <td>0</td>\n",
       "      <td>../datasets/PiCar/train/training_data/9869.png</td>\n",
       "    </tr>\n",
       "    <tr>\n",
       "      <th>553</th>\n",
       "      <td>0.4375</td>\n",
       "      <td>1</td>\n",
       "      <td>../datasets/PiCar/train/training_data/554.png</td>\n",
       "    </tr>\n",
       "    <tr>\n",
       "      <th>9820</th>\n",
       "      <td>0.3750</td>\n",
       "      <td>0</td>\n",
       "      <td>../datasets/PiCar/train/training_data/9825.png</td>\n",
       "    </tr>\n",
       "    <tr>\n",
       "      <th>4051</th>\n",
       "      <td>0.8125</td>\n",
       "      <td>1</td>\n",
       "      <td>../datasets/PiCar/train/training_data/4054.png</td>\n",
       "    </tr>\n",
       "  </tbody>\n",
       "</table>\n",
       "</div>"
      ],
      "text/plain": [
       "       angle  speed                                          images\n",
       "8072  0.7500      0  ../datasets/PiCar/train/training_data/8076.png\n",
       "9864  0.5625      0  ../datasets/PiCar/train/training_data/9869.png\n",
       "553   0.4375      1   ../datasets/PiCar/train/training_data/554.png\n",
       "9820  0.3750      0  ../datasets/PiCar/train/training_data/9825.png\n",
       "4051  0.8125      1  ../datasets/PiCar/train/training_data/4054.png"
      ]
     },
     "execution_count": 35,
     "metadata": {},
     "output_type": "execute_result"
    }
   ],
   "source": [
    "X_valid['speed']=X_valid['speed'].astype(\"int\")\n",
    "X_valid.head()"
   ]
  },
  {
   "cell_type": "code",
   "execution_count": 38,
   "id": "861f5a7a",
   "metadata": {},
   "outputs": [],
   "source": [
    "cm = confusion_matrix(X_valid['speed'], pred_df_rnd['speed'])"
   ]
  },
  {
   "cell_type": "code",
   "execution_count": 39,
   "id": "e98bec5b",
   "metadata": {},
   "outputs": [
    {
     "name": "stdout",
     "output_type": "stream",
     "text": [
      "              precision    recall  f1-score   support\n",
      "\n",
      "           0       0.97      0.93      0.95       673\n",
      "           1       0.98      0.99      0.98      2086\n",
      "\n",
      "    accuracy                           0.98      2759\n",
      "   macro avg       0.98      0.96      0.97      2759\n",
      "weighted avg       0.98      0.98      0.98      2759\n",
      "\n"
     ]
    },
    {
     "data": {
      "image/png": "[encoded data removed]",
      "text/plain": [
       "<Figure size 216x216 with 1 Axes>"
      ]
     },
     "metadata": {
      "needs_background": "light"
     },
     "output_type": "display_data"
    }
   ],
   "source": [
    "# Plot confusion matrix\n",
    "fig, ax = plt.subplots(figsize=(3,3))\n",
    "ax.matshow(cm, cmap=plt.cm.Blues, alpha=0.3)\n",
    "for i in range(cm.shape[0]):\n",
    "    for j in range(cm.shape[1]):\n",
    "        ax.text(x=j, y=i, s=cm[i,j], va='center', ha='center')\n",
    "classes=[\"1\", \"0\"]\n",
    "tick_marks = np.arange(len(classes))\n",
    "plt.xticks(tick_marks, classes, rotation=45)\n",
    "plt.yticks(tick_marks, classes)\n",
    "plt.xlabel('Predicted Values',)\n",
    "plt.ylabel('actual Values',);\n",
    "print(classification_report(X_valid['speed'], pred_df_rnd['speed']))"
   ]
  },
  {
   "cell_type": "code",
   "execution_count": 40,
   "id": "0b9a17b2",
   "metadata": {},
   "outputs": [
    {
     "data": {
      "image/png": "[encoded data removed]",
      "text/plain": [
       "<Figure size 720x576 with 1 Axes>"
      ]
     },
     "metadata": {
      "needs_background": "light"
     },
     "output_type": "display_data"
    }
   ],
   "source": [
    "# Plot the rciever opertaing characteristic curve (ROC)\n",
    "from sklearn.metrics import roc_curve, auc\n",
    "\n",
    "plt.figure(figsize=(10,8))\n",
    "#probas_ = model.predict(X_valid['speed'])\n",
    "fpr, tpr, thresholds = roc_curve(X_valid['speed'], pred_df['speed'])\n",
    "roc_auc = auc(fpr,tpr)\n",
    "plt.plot(fpr,tpr, lw=1, label='ROC fold (area = %0.2f)' %(roc_auc))\n",
    "plt.plot([0, 1], [0, 1], '--', color=(0.6, 0.6, 0.6), label='Random')\n",
    "plt.xlim([-0.05,1.05])\n",
    "plt.ylim([-0.05,1.05])\n",
    "plt.xlabel('False positive rate | 1 - specificity (1 -  recall)')\n",
    "plt.ylabel('True positive rate | Sensitivity ( recall)')\n",
    "plt.title('Reciever operating characteristics')\n",
    "plt.legend(loc=\"lower right\")\n",
    "plt.axes().set_aspect(1);"
   ]
  },
  {
   "cell_type": "code",
   "execution_count": null,
   "id": "c78c7fd4",
   "metadata": {},
   "outputs": [],
   "source": []
  },
  {
   "cell_type": "code",
   "execution_count": null,
   "id": "fb2ed18f",
   "metadata": {},
   "outputs": [],
   "source": []
  },
  {
   "cell_type": "markdown",
   "id": "0385c80b",
   "metadata": {},
   "source": [
    "# Testing"
   ]
  },
  {
   "cell_type": "code",
   "execution_count": 19,
   "id": "a930fdfd",
   "metadata": {},
   "outputs": [
    {
     "data": {
      "text/html": [
       "<div>\n",
       "<style scoped>\n",
       "    .dataframe tbody tr th:only-of-type {\n",
       "        vertical-align: middle;\n",
       "    }\n",
       "\n",
       "    .dataframe tbody tr th {\n",
       "        vertical-align: top;\n",
       "    }\n",
       "\n",
       "    .dataframe thead th {\n",
       "        text-align: right;\n",
       "    }\n",
       "</style>\n",
       "<table border=\"1\" class=\"dataframe\">\n",
       "  <thead>\n",
       "    <tr style=\"text-align: right;\">\n",
       "      <th></th>\n",
       "      <th>images</th>\n",
       "    </tr>\n",
       "  </thead>\n",
       "  <tbody>\n",
       "    <tr>\n",
       "      <th>count</th>\n",
       "      <td>1020</td>\n",
       "    </tr>\n",
       "    <tr>\n",
       "      <th>unique</th>\n",
       "      <td>1020</td>\n",
       "    </tr>\n",
       "    <tr>\n",
       "      <th>top</th>\n",
       "      <td>../datasets/PiCar/test\\1.png</td>\n",
       "    </tr>\n",
       "    <tr>\n",
       "      <th>freq</th>\n",
       "      <td>1</td>\n",
       "    </tr>\n",
       "  </tbody>\n",
       "</table>\n",
       "</div>"
      ],
      "text/plain": [
       "                              images\n",
       "count                           1020\n",
       "unique                          1020\n",
       "top     ../datasets/PiCar/test\\1.png\n",
       "freq                               1"
      ]
     },
     "execution_count": 19,
     "metadata": {},
     "output_type": "execute_result"
    }
   ],
   "source": [
    "images_dir = '../datasets/PiCar/test'\n",
    "file_list = os.listdir(images_dir)\n",
    "image_paths = []\n",
    "pattern = \"*.png\"\n",
    "\n",
    "for filename in file_list:\n",
    "    if fnmatch.fnmatch(filename, pattern):\n",
    "        image_paths.append(os.path.join(images_dir,filename))\n",
    "\n",
    "image_paths = natsorted(image_paths)\n",
    "\n",
    "images = pd.DataFrame (image_paths, columns = ['images'])\n",
    "images.describe()"
   ]
  },
  {
   "cell_type": "code",
   "execution_count": 20,
   "id": "29e1b259",
   "metadata": {},
   "outputs": [],
   "source": [
    "def test_generator(df, batch_size, target_size):\n",
    "    while True:\n",
    "\n",
    "        for i in range(0, len(df), batch_size):\n",
    "            batch = df\n",
    "            # Load images and labels\n",
    "            images = []\n",
    "            for _, row in batch.iterrows():\n",
    "                img = cv2.imread(row['images'])\n",
    "                img = cv2.cvtColor(img, cv2.COLOR_BGR2RGB)\n",
    "                img = cv2.resize(img, target_size)\n",
    "                images.append(img)\n",
    "\n",
    "            images = np.array(images) / 255.0\n",
    "\n",
    "            yield images"
   ]
  },
  {
   "cell_type": "code",
   "execution_count": 21,
   "id": "6dbaa2ee",
   "metadata": {},
   "outputs": [
    {
     "name": "stdout",
     "output_type": "stream",
     "text": [
      "32/32 [==============================] - 5s 8ms/step\n",
      "(array([[0.57233447],\n",
      "       [0.7269628 ],\n",
      "       [0.24392101],\n",
      "       ...,\n",
      "       [0.4193011 ],\n",
      "       [0.48417288],\n",
      "       [0.2161816 ]], dtype=float32), array([[0.00648858],\n",
      "       [1.        ],\n",
      "       [0.9712993 ],\n",
      "       ...,\n",
      "       [0.9992417 ],\n",
      "       [0.80309635],\n",
      "       [0.9901134 ]], dtype=float32))\n"
     ]
    }
   ],
   "source": [
    "from keras.models import load_model\n",
    "model = load_model('model/Nvidia_CNN')\n",
    "testgen = next(test_generator(images, batch_size=1020, target_size=(240, 120)))\n",
    "predict = model.predict(testgen)\n",
    "print(predict)"
   ]
  },
  {
   "cell_type": "code",
   "execution_count": 22,
   "id": "4100b174",
   "metadata": {},
   "outputs": [
    {
     "data": {
      "text/html": [
       "<div>\n",
       "<style scoped>\n",
       "    .dataframe tbody tr th:only-of-type {\n",
       "        vertical-align: middle;\n",
       "    }\n",
       "\n",
       "    .dataframe tbody tr th {\n",
       "        vertical-align: top;\n",
       "    }\n",
       "\n",
       "    .dataframe thead th {\n",
       "        text-align: right;\n",
       "    }\n",
       "</style>\n",
       "<table border=\"1\" class=\"dataframe\">\n",
       "  <thead>\n",
       "    <tr style=\"text-align: right;\">\n",
       "      <th></th>\n",
       "      <th>image_id</th>\n",
       "      <th>Angle</th>\n",
       "      <th>speed</th>\n",
       "    </tr>\n",
       "  </thead>\n",
       "  <tbody>\n",
       "    <tr>\n",
       "      <th>0</th>\n",
       "      <td>1</td>\n",
       "      <td>0.572334</td>\n",
       "      <td>0.006489</td>\n",
       "    </tr>\n",
       "    <tr>\n",
       "      <th>1</th>\n",
       "      <td>2</td>\n",
       "      <td>0.726963</td>\n",
       "      <td>1.000000</td>\n",
       "    </tr>\n",
       "    <tr>\n",
       "      <th>2</th>\n",
       "      <td>3</td>\n",
       "      <td>0.243921</td>\n",
       "      <td>0.971299</td>\n",
       "    </tr>\n",
       "    <tr>\n",
       "      <th>3</th>\n",
       "      <td>4</td>\n",
       "      <td>0.231288</td>\n",
       "      <td>0.998323</td>\n",
       "    </tr>\n",
       "    <tr>\n",
       "      <th>4</th>\n",
       "      <td>5</td>\n",
       "      <td>0.231272</td>\n",
       "      <td>0.947584</td>\n",
       "    </tr>\n",
       "  </tbody>\n",
       "</table>\n",
       "</div>"
      ],
      "text/plain": [
       "   image_id     Angle     speed\n",
       "0         1  0.572334  0.006489\n",
       "1         2  0.726963  1.000000\n",
       "2         3  0.243921  0.971299\n",
       "3         4  0.231288  0.998323\n",
       "4         5  0.231272  0.947584"
      ]
     },
     "execution_count": 22,
     "metadata": {},
     "output_type": "execute_result"
    }
   ],
   "source": [
    "angles = pd.DataFrame(predict[0], columns=['Angle'])\n",
    "speed = pd.DataFrame(predict[1], columns=['speed'])\n",
    "pred_df = pd.concat([angles, speed],axis=1)\n",
    "pred_df.insert(0,\"image_id\", np.arange(1,len(pred_df)+1))\n",
    "\n",
    "pred_df.head()"
   ]
  },
  {
   "cell_type": "code",
   "execution_count": 23,
   "id": "f34ec365",
   "metadata": {},
   "outputs": [
    {
     "data": {
      "text/html": [
       "<div>\n",
       "<style scoped>\n",
       "    .dataframe tbody tr th:only-of-type {\n",
       "        vertical-align: middle;\n",
       "    }\n",
       "\n",
       "    .dataframe tbody tr th {\n",
       "        vertical-align: top;\n",
       "    }\n",
       "\n",
       "    .dataframe thead th {\n",
       "        text-align: right;\n",
       "    }\n",
       "</style>\n",
       "<table border=\"1\" class=\"dataframe\">\n",
       "  <thead>\n",
       "    <tr style=\"text-align: right;\">\n",
       "      <th></th>\n",
       "      <th>image_id</th>\n",
       "      <th>Angle</th>\n",
       "      <th>speed</th>\n",
       "    </tr>\n",
       "  </thead>\n",
       "  <tbody>\n",
       "    <tr>\n",
       "      <th>0</th>\n",
       "      <td>1</td>\n",
       "      <td>0.5723</td>\n",
       "      <td>0.0</td>\n",
       "    </tr>\n",
       "    <tr>\n",
       "      <th>1</th>\n",
       "      <td>2</td>\n",
       "      <td>0.7270</td>\n",
       "      <td>1.0</td>\n",
       "    </tr>\n",
       "    <tr>\n",
       "      <th>2</th>\n",
       "      <td>3</td>\n",
       "      <td>0.2439</td>\n",
       "      <td>1.0</td>\n",
       "    </tr>\n",
       "    <tr>\n",
       "      <th>3</th>\n",
       "      <td>4</td>\n",
       "      <td>0.2313</td>\n",
       "      <td>1.0</td>\n",
       "    </tr>\n",
       "    <tr>\n",
       "      <th>4</th>\n",
       "      <td>5</td>\n",
       "      <td>0.2313</td>\n",
       "      <td>1.0</td>\n",
       "    </tr>\n",
       "  </tbody>\n",
       "</table>\n",
       "</div>"
      ],
      "text/plain": [
       "   image_id   Angle  speed\n",
       "0         1  0.5723    0.0\n",
       "1         2  0.7270    1.0\n",
       "2         3  0.2439    1.0\n",
       "3         4  0.2313    1.0\n",
       "4         5  0.2313    1.0"
      ]
     },
     "execution_count": 23,
     "metadata": {},
     "output_type": "execute_result"
    }
   ],
   "source": [
    "pred_df = pred_df.round({'Angle': 4, 'speed': 0})\n",
    "pred_df.head()"
   ]
  },
  {
   "cell_type": "code",
   "execution_count": 24,
   "id": "74aabf49",
   "metadata": {},
   "outputs": [],
   "source": [
    "pred_df.to_csv('Tow_mat4.csv', index=False)"
   ]
  },
  {
   "cell_type": "code",
   "execution_count": 35,
   "id": "9ffefcf8",
   "metadata": {},
   "outputs": [],
   "source": [
    "test = next(custom_generator(X_valid, batch_size=10, target_size=(240, 120), is_training=False))"
   ]
  },
  {
   "cell_type": "code",
   "execution_count": 36,
   "id": "ac82e177",
   "metadata": {},
   "outputs": [
    {
     "name": "stdout",
     "output_type": "stream",
     "text": [
      "1/1 [==============================] - 0s 18ms/step\n"
     ]
    }
   ],
   "source": [
    "predict_test = model.predict(test[0])"
   ]
  },
  {
   "cell_type": "code",
   "execution_count": 37,
   "id": "ddd8b21b",
   "metadata": {},
   "outputs": [
    {
     "name": "stdout",
     "output_type": "stream",
     "text": [
      "[[0.5511235 ]\n",
      " [0.7568309 ]\n",
      " [0.7777829 ]\n",
      " [0.72114545]\n",
      " [0.4993554 ]\n",
      " [0.54714364]\n",
      " [0.47722927]\n",
      " [0.5665439 ]\n",
      " [0.6199493 ]\n",
      " [0.7158552 ]]\n"
     ]
    }
   ],
   "source": [
    "print(predict_test[0])"
   ]
  },
  {
   "cell_type": "code",
   "execution_count": 38,
   "id": "573e4d2e",
   "metadata": {},
   "outputs": [
    {
     "name": "stdout",
     "output_type": "stream",
     "text": [
      "{'output_1': array([0.625 , 0.75  , 0.6875, 0.6875, 0.5   , 0.5   , 0.5   , 0.5625,\n",
      "       0.625 , 0.6875]), 'output_2': array([1., 1., 0., 0., 1., 1., 1., 0., 1., 0.])}\n"
     ]
    }
   ],
   "source": [
    "print(test[1])"
   ]
  }
 ],
 "metadata": {
  "kernelspec": {
   "display_name": "Python 3",
   "language": "python",
   "name": "python3"
  },
  "language_info": {
   "codemirror_mode": {
    "name": "ipython",
    "version": 3
   },
   "file_extension": ".py",
   "mimetype": "text/x-python",
   "name": "python",
   "nbconvert_exporter": "python",
   "pygments_lexer": "ipython3",
   "version": "3.8.8"
  }
 },
 "nbformat": 4,
 "nbformat_minor": 5
}
