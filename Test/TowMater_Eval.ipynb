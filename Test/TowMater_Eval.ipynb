{
 "cells": [
  {
   "cell_type": "markdown",
   "id": "96fe66a5",
   "metadata": {},
   "source": [
    "# Tow_matters PiCar"
   ]
  },
  {
   "cell_type": "code",
   "execution_count": 2,
   "id": "434fda4d",
   "metadata": {},
   "outputs": [],
   "source": [
    "import os\n",
    "import fnmatch\n",
    "import numpy as np\n",
    "import pandas as pd\n",
    "import matplotlib.pyplot as plt\n",
    "from PIL import Image\n",
    "from natsort import natsorted\n",
    "\n",
    "from sklearn.preprocessing import LabelEncoder\n",
    "from sklearn.model_selection import train_test_split\n",
    "from sklearn.metrics import confusion_matrix, classification_report\n",
    "\n",
    "import tensorflow as tf\n",
    "from tensorflow.keras.layers import Dense, Flatten,Dropout, BatchNormalization, Conv2D\n",
    "from tensorflow.keras import Model\n",
    "from tensorflow.keras.preprocessing.image import ImageDataGenerator\n",
    "from tensorflow.python.keras import regularizers\n",
    "from tensorflow_addons.metrics import RSquare\n",
    "\n",
    "import warnings\n",
    "warnings.filterwarnings('ignore')"
   ]
  },
  {
   "cell_type": "code",
   "execution_count": 3,
   "id": "c2bc356e",
   "metadata": {},
   "outputs": [
    {
     "data": {
      "text/html": [
       "<div>\n",
       "<style scoped>\n",
       "    .dataframe tbody tr th:only-of-type {\n",
       "        vertical-align: middle;\n",
       "    }\n",
       "\n",
       "    .dataframe tbody tr th {\n",
       "        vertical-align: top;\n",
       "    }\n",
       "\n",
       "    .dataframe thead th {\n",
       "        text-align: right;\n",
       "    }\n",
       "</style>\n",
       "<table border=\"1\" class=\"dataframe\">\n",
       "  <thead>\n",
       "    <tr style=\"text-align: right;\">\n",
       "      <th></th>\n",
       "      <th>image_id</th>\n",
       "      <th>angle</th>\n",
       "      <th>speed</th>\n",
       "    </tr>\n",
       "  </thead>\n",
       "  <tbody>\n",
       "    <tr>\n",
       "      <th>0</th>\n",
       "      <td>1</td>\n",
       "      <td>0.4375</td>\n",
       "      <td>0.0</td>\n",
       "    </tr>\n",
       "    <tr>\n",
       "      <th>1</th>\n",
       "      <td>2</td>\n",
       "      <td>0.8125</td>\n",
       "      <td>1.0</td>\n",
       "    </tr>\n",
       "    <tr>\n",
       "      <th>2</th>\n",
       "      <td>3</td>\n",
       "      <td>0.4375</td>\n",
       "      <td>1.0</td>\n",
       "    </tr>\n",
       "    <tr>\n",
       "      <th>3</th>\n",
       "      <td>4</td>\n",
       "      <td>0.6250</td>\n",
       "      <td>1.0</td>\n",
       "    </tr>\n",
       "    <tr>\n",
       "      <th>4</th>\n",
       "      <td>5</td>\n",
       "      <td>0.5000</td>\n",
       "      <td>0.0</td>\n",
       "    </tr>\n",
       "  </tbody>\n",
       "</table>\n",
       "</div>"
      ],
      "text/plain": [
       "   image_id   angle  speed\n",
       "0         1  0.4375    0.0\n",
       "1         2  0.8125    1.0\n",
       "2         3  0.4375    1.0\n",
       "3         4  0.6250    1.0\n",
       "4         5  0.5000    0.0"
      ]
     },
     "execution_count": 3,
     "metadata": {},
     "output_type": "execute_result"
    }
   ],
   "source": [
    "# Load csv file \n",
    "df = pd.read_csv('../datasets/PiCar/training_norm.csv', index_col=False)\n",
    "df.head()"
   ]
  },
  {
   "cell_type": "code",
   "execution_count": 4,
   "id": "6539c1b3",
   "metadata": {},
   "outputs": [
    {
     "data": {
      "text/plain": [
       "(13793, 3)"
      ]
     },
     "execution_count": 4,
     "metadata": {},
     "output_type": "execute_result"
    }
   ],
   "source": [
    "df.shape"
   ]
  },
  {
   "cell_type": "code",
   "execution_count": 5,
   "id": "2fa30ea5",
   "metadata": {},
   "outputs": [],
   "source": [
    "#df = df.drop('image_id', axis=1)\n",
    "#df.head()"
   ]
  },
  {
   "cell_type": "code",
   "execution_count": 6,
   "id": "eaa3263c",
   "metadata": {},
   "outputs": [
    {
     "data": {
      "text/plain": [
       "0.7500    2123\n",
       "0.5000    2046\n",
       "0.6875    2007\n",
       "0.6250    1963\n",
       "0.5625    1609\n",
       "0.4375    1467\n",
       "0.8125    1147\n",
       "0.3750     428\n",
       "0.8750     301\n",
       "0.3125     213\n",
       "0.2500     104\n",
       "0.1250      99\n",
       "0.1875      98\n",
       "0.9375      65\n",
       "0.0000      60\n",
       "1.0000      35\n",
       "0.0625      28\n",
       "Name: angle, dtype: int64"
      ]
     },
     "execution_count": 6,
     "metadata": {},
     "output_type": "execute_result"
    }
   ],
   "source": [
    "df['angle'].value_counts()"
   ]
  },
  {
   "cell_type": "code",
   "execution_count": 7,
   "id": "060ed290",
   "metadata": {},
   "outputs": [
    {
     "name": "stdout",
     "output_type": "stream",
     "text": [
      "Missing data: [3141, 3999, 4895, 8285, 10171]\n"
     ]
    }
   ],
   "source": [
    "a = df['image_id'].tolist()\n",
    "b = [x for x in range(a[0], a[-1] + 1)]\n",
    "missing_vals = list(set(a) ^ set(b))\n",
    "print('Missing data:', missing_vals)"
   ]
  },
  {
   "cell_type": "code",
   "execution_count": 8,
   "id": "7fdcb875",
   "metadata": {},
   "outputs": [
    {
     "data": {
      "text/html": [
       "<div>\n",
       "<style scoped>\n",
       "    .dataframe tbody tr th:only-of-type {\n",
       "        vertical-align: middle;\n",
       "    }\n",
       "\n",
       "    .dataframe tbody tr th {\n",
       "        vertical-align: top;\n",
       "    }\n",
       "\n",
       "    .dataframe thead th {\n",
       "        text-align: right;\n",
       "    }\n",
       "</style>\n",
       "<table border=\"1\" class=\"dataframe\">\n",
       "  <thead>\n",
       "    <tr style=\"text-align: right;\">\n",
       "      <th></th>\n",
       "      <th>images</th>\n",
       "    </tr>\n",
       "  </thead>\n",
       "  <tbody>\n",
       "    <tr>\n",
       "      <th>count</th>\n",
       "      <td>13793</td>\n",
       "    </tr>\n",
       "    <tr>\n",
       "      <th>unique</th>\n",
       "      <td>13793</td>\n",
       "    </tr>\n",
       "    <tr>\n",
       "      <th>top</th>\n",
       "      <td>../datasets/PiCar/train/training_data/2586.png</td>\n",
       "    </tr>\n",
       "    <tr>\n",
       "      <th>freq</th>\n",
       "      <td>1</td>\n",
       "    </tr>\n",
       "  </tbody>\n",
       "</table>\n",
       "</div>"
      ],
      "text/plain": [
       "                                                images\n",
       "count                                            13793\n",
       "unique                                           13793\n",
       "top     ../datasets/PiCar/train/training_data/2586.png\n",
       "freq                                                 1"
      ]
     },
     "execution_count": 8,
     "metadata": {},
     "output_type": "execute_result"
    }
   ],
   "source": [
    "images_dir = '../datasets/PiCar/train/training_data'\n",
    "file_list = os.listdir(images_dir)\n",
    "image_paths = []\n",
    "pattern = \"*.png\"\n",
    "\n",
    "for filename in file_list:\n",
    "    if fnmatch.fnmatch(filename, pattern):\n",
    "        image_paths.append(os.path.join(images_dir,filename))\n",
    "\n",
    "image_paths = natsorted(image_paths)\n",
    "image_paths = [string for string in image_paths if string != '../datasets/PiCar/train/training_data/3141.png']\n",
    "image_paths = [string for string in image_paths if string != '../datasets/PiCar/train/training_data/3999.png']\n",
    "image_paths = [string for string in image_paths if string != '../datasets/PiCar/train/training_data/4895.png']\n",
    "image_paths = [string for string in image_paths if string != '../datasets/PiCar/train/training_data/8285.png']\n",
    "image_paths = [string for string in image_paths if string != '../datasets/PiCar/train/training_data/10171.png']\n",
    "\n",
    "\n",
    "\n",
    "images = pd.DataFrame (image_paths, columns = ['images'])\n",
    "images.describe()"
   ]
  },
  {
   "cell_type": "code",
   "execution_count": 9,
   "id": "8fe42cb6",
   "metadata": {},
   "outputs": [
    {
     "data": {
      "text/html": [
       "<div>\n",
       "<style scoped>\n",
       "    .dataframe tbody tr th:only-of-type {\n",
       "        vertical-align: middle;\n",
       "    }\n",
       "\n",
       "    .dataframe tbody tr th {\n",
       "        vertical-align: top;\n",
       "    }\n",
       "\n",
       "    .dataframe thead th {\n",
       "        text-align: right;\n",
       "    }\n",
       "</style>\n",
       "<table border=\"1\" class=\"dataframe\">\n",
       "  <thead>\n",
       "    <tr style=\"text-align: right;\">\n",
       "      <th></th>\n",
       "      <th>angle</th>\n",
       "      <th>speed</th>\n",
       "      <th>images</th>\n",
       "    </tr>\n",
       "  </thead>\n",
       "  <tbody>\n",
       "    <tr>\n",
       "      <th>13788</th>\n",
       "      <td>0.6250</td>\n",
       "      <td>1.0</td>\n",
       "      <td>../datasets/PiCar/train/training_data/13794.png</td>\n",
       "    </tr>\n",
       "    <tr>\n",
       "      <th>13789</th>\n",
       "      <td>0.4375</td>\n",
       "      <td>1.0</td>\n",
       "      <td>../datasets/PiCar/train/training_data/13795.png</td>\n",
       "    </tr>\n",
       "    <tr>\n",
       "      <th>13790</th>\n",
       "      <td>0.5625</td>\n",
       "      <td>0.0</td>\n",
       "      <td>../datasets/PiCar/train/training_data/13796.png</td>\n",
       "    </tr>\n",
       "    <tr>\n",
       "      <th>13791</th>\n",
       "      <td>0.6250</td>\n",
       "      <td>0.0</td>\n",
       "      <td>../datasets/PiCar/train/training_data/13797.png</td>\n",
       "    </tr>\n",
       "    <tr>\n",
       "      <th>13792</th>\n",
       "      <td>0.6875</td>\n",
       "      <td>1.0</td>\n",
       "      <td>../datasets/PiCar/train/training_data/13798.png</td>\n",
       "    </tr>\n",
       "  </tbody>\n",
       "</table>\n",
       "</div>"
      ],
      "text/plain": [
       "        angle  speed                                           images\n",
       "13788  0.6250    1.0  ../datasets/PiCar/train/training_data/13794.png\n",
       "13789  0.4375    1.0  ../datasets/PiCar/train/training_data/13795.png\n",
       "13790  0.5625    0.0  ../datasets/PiCar/train/training_data/13796.png\n",
       "13791  0.6250    0.0  ../datasets/PiCar/train/training_data/13797.png\n",
       "13792  0.6875    1.0  ../datasets/PiCar/train/training_data/13798.png"
      ]
     },
     "execution_count": 9,
     "metadata": {},
     "output_type": "execute_result"
    }
   ],
   "source": [
    "df_all = pd.concat([df, images], axis=1)\n",
    "df_all = df_all.drop('image_id', axis=1)\n",
    "df_all.tail()"
   ]
  },
  {
   "cell_type": "code",
   "execution_count": 10,
   "id": "f9a4fc4f",
   "metadata": {},
   "outputs": [
    {
     "data": {
      "text/plain": [
       "(13793, 3)"
      ]
     },
     "execution_count": 10,
     "metadata": {},
     "output_type": "execute_result"
    }
   ],
   "source": [
    "df_all.shape"
   ]
  },
  {
   "cell_type": "code",
   "execution_count": 11,
   "id": "108b5783",
   "metadata": {},
   "outputs": [],
   "source": [
    "#le = LabelEncoder()\n",
    "#df_all['angle']= le.fit_transform(df_all['angle'])\n",
    "#df_all.head()"
   ]
  },
  {
   "cell_type": "code",
   "execution_count": 12,
   "id": "7c68a45e",
   "metadata": {},
   "outputs": [
    {
     "name": "stdout",
     "output_type": "stream",
     "text": [
      "image_path: ../datasets/PiCar/train/training_data/11.png\n",
      "steering_Angle: 0.6875\n",
      "Speed: 0.0\n"
     ]
    },
    {
     "data": {
      "image/png": "[encoded data removed]",
      "text/plain": [
       "<Figure size 432x288 with 1 Axes>"
      ]
     },
     "metadata": {
      "needs_background": "light"
     },
     "output_type": "display_data"
    }
   ],
   "source": [
    "image_paths = df_all['images'].tolist()\n",
    "steering_angles = df_all['angle'].tolist()\n",
    "speed = df_all['speed'].tolist()\n",
    "\n",
    "\n",
    "image_index = 10\n",
    "plt.imshow(Image.open(image_paths[image_index]))\n",
    "print(\"image_path: %s\" % image_paths[image_index]) \n",
    "print(\"steering_Angle:\", steering_angles[image_index]) \n",
    "print(\"Speed:\", speed[image_index]) \n"
   ]
  },
  {
   "cell_type": "code",
   "execution_count": 13,
   "id": "f1b16576",
   "metadata": {},
   "outputs": [
    {
     "name": "stdout",
     "output_type": "stream",
     "text": [
      "Training data: 11034\n",
      "Validation data: 2759\n"
     ]
    }
   ],
   "source": [
    "X_train, X_valid = train_test_split( df_all, test_size=0.2)\n",
    "print(\"Training data: %d\\nValidation data: %d\" % (len(X_train), len(X_valid)))\n",
    "\n"
   ]
  },
  {
   "cell_type": "code",
   "execution_count": 14,
   "id": "c96b8ec3",
   "metadata": {},
   "outputs": [],
   "source": [
    "class Nvidia_CNN(tf.keras.Model):\n",
    "  def __init__(self):\n",
    "    super().__init__()\n",
    "    \n",
    "    self.conv1 = Conv2D(24, 5,strides=(2, 2), activation='relu')\n",
    "    self.conv2 = Conv2D(36, 5, strides=(2, 2),activation='relu')\n",
    "    self.conv3 = Conv2D(48, 5, strides=(2, 2),activation='relu')\n",
    "    self.conv4 = Conv2D(64, 3, strides=(2, 2), activation='relu')\n",
    "    #self.drop1 = Dropout(0.25)\n",
    "    self.batch1 = BatchNormalization()\n",
    "    self.conv5 = Conv2D(64, 3, strides=(2, 2),activation='relu')\n",
    "    \n",
    "    self.flatten = Flatten()\n",
    "    self.drop2 = Dropout(0.25)\n",
    "    self.d1 = Dense(128, activation='relu')\n",
    "    self.d2 = Dense(64, activation='relu')\n",
    "    self.d3 = Dense(32, activation='relu')\n",
    "    #self.d4 = Dense(16, activation='relu')\n",
    "    \n",
    "    self.Y1 = Dense(1, activation='relu')    \n",
    "    self.Y2 = Dense(1, activation = 'sigmoid')\n",
    "\n",
    "  def call(self, x):\n",
    "    x = self.conv1(x)\n",
    "    x = self.conv2(x)\n",
    "    x = self.conv3(x)\n",
    "    x = self.conv4(x)\n",
    "    #x = self.drop1(x)\n",
    "    x = self.batch1(x)\n",
    "    x = self.conv5(x)\n",
    "    \n",
    "    x = self.flatten(x)\n",
    "    x = self.drop2(x)\n",
    "    x = self.d1(x)\n",
    "    x = self.d2(x)\n",
    "    x = self.d3(x)\n",
    "    #x = self.d4(x)\n",
    "    \n",
    "    \n",
    "    y1 = self.Y1(x)\n",
    "    y2 = self.Y2(x)\n",
    "    \n",
    "    return y1,y2"
   ]
  },
  {
   "cell_type": "code",
   "execution_count": 15,
   "id": "b75e1f7f",
   "metadata": {},
   "outputs": [
    {
     "name": "stdout",
     "output_type": "stream",
     "text": [
      "Model: \"nvidia_cnn\"\n",
      "_________________________________________________________________\n",
      " Layer (type)                Output Shape              Param #   \n",
      "=================================================================\n",
      " conv2d (Conv2D)             multiple                  1824      \n",
      "                                                                 \n",
      " conv2d_1 (Conv2D)           multiple                  21636     \n",
      "                                                                 \n",
      " conv2d_2 (Conv2D)           multiple                  43248     \n",
      "                                                                 \n",
      " conv2d_3 (Conv2D)           multiple                  27712     \n",
      "                                                                 \n",
      " batch_normalization (BatchN  multiple                 256       \n",
      " ormalization)                                                   \n",
      "                                                                 \n",
      " conv2d_4 (Conv2D)           multiple                  36928     \n",
      "                                                                 \n",
      " flatten (Flatten)           multiple                  0         \n",
      "                                                                 \n",
      " dropout (Dropout)           multiple                  0         \n",
      "                                                                 \n",
      " dense (Dense)               multiple                  196736    \n",
      "                                                                 \n",
      " dense_1 (Dense)             multiple                  8256      \n",
      "                                                                 \n",
      " dense_2 (Dense)             multiple                  2080      \n",
      "                                                                 \n",
      " dense_3 (Dense)             multiple                  33        \n",
      "                                                                 \n",
      " dense_4 (Dense)             multiple                  33        \n",
      "                                                                 \n",
      "=================================================================\n",
      "Total params: 338,742\n",
      "Trainable params: 338,614\n",
      "Non-trainable params: 128\n",
      "_________________________________________________________________\n"
     ]
    }
   ],
   "source": [
    "model = Nvidia_CNN()\n",
    "model.build((1,240, 180, 3))\n",
    "model.summary()"
   ]
  },
  {
   "cell_type": "code",
   "execution_count": 15,
   "id": "8f0bf924",
   "metadata": {},
   "outputs": [
    {
     "name": "stdout",
     "output_type": "stream",
     "text": [
      "Found 11034 validated image filenames.\n",
      "Found 2759 validated image filenames.\n",
      "Epoch 1/80\n",
      "345/345 [==============================] - 107s 307ms/step - loss: 0.4879 - output_1_loss: 0.0441 - output_2_loss: 0.4438 - output_1_r_square: -0.8253 - output_2_accuracy: 0.8147 - val_loss: 0.4687 - val_output_1_loss: 0.1260 - val_output_2_loss: 0.3427 - val_output_1_r_square: -4.1617 - val_output_2_accuracy: 0.8695\n",
      "Epoch 2/80\n",
      "345/345 [==============================] - 101s 293ms/step - loss: 0.2650 - output_1_loss: 0.0308 - output_2_loss: 0.2342 - output_1_r_square: -0.2767 - output_2_accuracy: 0.9148 - val_loss: 0.3961 - val_output_1_loss: 0.0477 - val_output_2_loss: 0.3484 - val_output_1_r_square: -0.9546 - val_output_2_accuracy: 0.8539\n",
      "Epoch 3/80\n",
      "345/345 [==============================] - 101s 292ms/step - loss: 0.2070 - output_1_loss: 0.0241 - output_2_loss: 0.1830 - output_1_r_square: 0.0027 - output_2_accuracy: 0.9322 - val_loss: 0.2889 - val_output_1_loss: 0.0199 - val_output_2_loss: 0.2689 - val_output_1_r_square: 0.1842 - val_output_2_accuracy: 0.8811\n",
      "Epoch 4/80\n",
      "345/345 [==============================] - 102s 294ms/step - loss: 0.1820 - output_1_loss: 0.0212 - output_2_loss: 0.1608 - output_1_r_square: 0.1230 - output_2_accuracy: 0.9376 - val_loss: 0.2220 - val_output_1_loss: 0.0199 - val_output_2_loss: 0.2021 - val_output_1_r_square: 0.1843 - val_output_2_accuracy: 0.9232\n",
      "Epoch 5/80\n",
      "345/345 [==============================] - 101s 293ms/step - loss: 0.1571 - output_1_loss: 0.0193 - output_2_loss: 0.1378 - output_1_r_square: 0.1999 - output_2_accuracy: 0.9452 - val_loss: 0.4146 - val_output_1_loss: 0.0167 - val_output_2_loss: 0.3980 - val_output_1_r_square: 0.3168 - val_output_2_accuracy: 0.7952\n",
      "Epoch 6/80\n",
      "345/345 [==============================] - 102s 295ms/step - loss: 0.1484 - output_1_loss: 0.0177 - output_2_loss: 0.1307 - output_1_r_square: 0.2670 - output_2_accuracy: 0.9486 - val_loss: 0.2160 - val_output_1_loss: 0.0143 - val_output_2_loss: 0.2017 - val_output_1_r_square: 0.4146 - val_output_2_accuracy: 0.9145\n",
      "Epoch 7/80\n",
      "345/345 [==============================] - 101s 293ms/step - loss: 0.1423 - output_1_loss: 0.0167 - output_2_loss: 0.1256 - output_1_r_square: 0.3076 - output_2_accuracy: 0.9494 - val_loss: 0.1504 - val_output_1_loss: 0.0287 - val_output_2_loss: 0.1217 - val_output_1_r_square: -0.1753 - val_output_2_accuracy: 0.9583\n",
      "Epoch 8/80\n",
      "345/345 [==============================] - 101s 293ms/step - loss: 0.1300 - output_1_loss: 0.0156 - output_2_loss: 0.1144 - output_1_r_square: 0.3520 - output_2_accuracy: 0.9531 - val_loss: 0.1194 - val_output_1_loss: 0.0140 - val_output_2_loss: 0.1054 - val_output_1_r_square: 0.4258 - val_output_2_accuracy: 0.9619\n",
      "Epoch 9/80\n",
      "345/345 [==============================] - 101s 293ms/step - loss: 0.1253 - output_1_loss: 0.0156 - output_2_loss: 0.1097 - output_1_r_square: 0.3548 - output_2_accuracy: 0.9560 - val_loss: 0.4537 - val_output_1_loss: 0.0221 - val_output_2_loss: 0.4316 - val_output_1_r_square: 0.0943 - val_output_2_accuracy: 0.7930\n",
      "Epoch 10/80\n",
      "345/345 [==============================] - 101s 293ms/step - loss: 0.1219 - output_1_loss: 0.0145 - output_2_loss: 0.1074 - output_1_r_square: 0.3993 - output_2_accuracy: 0.9574 - val_loss: 0.3132 - val_output_1_loss: 0.0127 - val_output_2_loss: 0.3004 - val_output_1_r_square: 0.4782 - val_output_2_accuracy: 0.8630\n",
      "Epoch 11/80\n",
      "345/345 [==============================] - 101s 292ms/step - loss: 0.1175 - output_1_loss: 0.0141 - output_2_loss: 0.1034 - output_1_r_square: 0.4148 - output_2_accuracy: 0.9560 - val_loss: 0.1590 - val_output_1_loss: 0.0169 - val_output_2_loss: 0.1421 - val_output_1_r_square: 0.3072 - val_output_2_accuracy: 0.9406\n",
      "Epoch 12/80\n",
      "345/345 [==============================] - 101s 292ms/step - loss: 0.1147 - output_1_loss: 0.0140 - output_2_loss: 0.1007 - output_1_r_square: 0.4217 - output_2_accuracy: 0.9596 - val_loss: 0.1078 - val_output_1_loss: 0.0141 - val_output_2_loss: 0.0937 - val_output_1_r_square: 0.4220 - val_output_2_accuracy: 0.9641\n",
      "Epoch 13/80\n",
      "345/345 [==============================] - 101s 294ms/step - loss: 0.1072 - output_1_loss: 0.0132 - output_2_loss: 0.0939 - output_1_r_square: 0.4513 - output_2_accuracy: 0.9614 - val_loss: 0.1214 - val_output_1_loss: 0.0250 - val_output_2_loss: 0.0964 - val_output_1_r_square: -0.0243 - val_output_2_accuracy: 0.9659\n",
      "Epoch 14/80\n",
      "345/345 [==============================] - 99s 286ms/step - loss: 0.1067 - output_1_loss: 0.0129 - output_2_loss: 0.0938 - output_1_r_square: 0.4642 - output_2_accuracy: 0.9601 - val_loss: 0.1067 - val_output_1_loss: 0.0126 - val_output_2_loss: 0.0941 - val_output_1_r_square: 0.4829 - val_output_2_accuracy: 0.9612\n",
      "Epoch 15/80\n",
      "345/345 [==============================] - 99s 286ms/step - loss: 0.1044 - output_1_loss: 0.0127 - output_2_loss: 0.0917 - output_1_r_square: 0.4753 - output_2_accuracy: 0.9615 - val_loss: 0.1262 - val_output_1_loss: 0.0120 - val_output_2_loss: 0.1142 - val_output_1_r_square: 0.5088 - val_output_2_accuracy: 0.9471\n",
      "Epoch 16/80\n",
      "345/345 [==============================] - 99s 285ms/step - loss: 0.0982 - output_1_loss: 0.0119 - output_2_loss: 0.0862 - output_1_r_square: 0.5054 - output_2_accuracy: 0.9646 - val_loss: 0.0883 - val_output_1_loss: 0.0118 - val_output_2_loss: 0.0765 - val_output_1_r_square: 0.5176 - val_output_2_accuracy: 0.9725\n",
      "Epoch 17/80\n",
      "345/345 [==============================] - 99s 286ms/step - loss: 0.0953 - output_1_loss: 0.0123 - output_2_loss: 0.0830 - output_1_r_square: 0.4890 - output_2_accuracy: 0.9665 - val_loss: 0.0869 - val_output_1_loss: 0.0123 - val_output_2_loss: 0.0746 - val_output_1_r_square: 0.4949 - val_output_2_accuracy: 0.9710\n",
      "Epoch 18/80\n",
      "345/345 [==============================] - 100s 290ms/step - loss: 0.0919 - output_1_loss: 0.0122 - output_2_loss: 0.0797 - output_1_r_square: 0.4955 - output_2_accuracy: 0.9670 - val_loss: 0.2327 - val_output_1_loss: 0.0120 - val_output_2_loss: 0.2207 - val_output_1_r_square: 0.5074 - val_output_2_accuracy: 0.9011\n",
      "Epoch 19/80\n",
      "345/345 [==============================] - 101s 294ms/step - loss: 0.0913 - output_1_loss: 0.0118 - output_2_loss: 0.0795 - output_1_r_square: 0.5110 - output_2_accuracy: 0.9679 - val_loss: 0.1160 - val_output_1_loss: 0.0107 - val_output_2_loss: 0.1053 - val_output_1_r_square: 0.5620 - val_output_2_accuracy: 0.9583\n",
      "Epoch 20/80\n",
      "345/345 [==============================] - 101s 293ms/step - loss: 0.0850 - output_1_loss: 0.0113 - output_2_loss: 0.0737 - output_1_r_square: 0.5332 - output_2_accuracy: 0.9711 - val_loss: 0.0788 - val_output_1_loss: 0.0123 - val_output_2_loss: 0.0665 - val_output_1_r_square: 0.4978 - val_output_2_accuracy: 0.9786\n",
      "Epoch 21/80\n",
      "345/345 [==============================] - 108s 313ms/step - loss: 0.0843 - output_1_loss: 0.0114 - output_2_loss: 0.0728 - output_1_r_square: 0.5259 - output_2_accuracy: 0.9708 - val_loss: 0.0820 - val_output_1_loss: 0.0110 - val_output_2_loss: 0.0710 - val_output_1_r_square: 0.5474 - val_output_2_accuracy: 0.9717\n",
      "Epoch 22/80\n",
      "345/345 [==============================] - 101s 293ms/step - loss: 0.0860 - output_1_loss: 0.0113 - output_2_loss: 0.0747 - output_1_r_square: 0.5301 - output_2_accuracy: 0.9718 - val_loss: 0.0866 - val_output_1_loss: 0.0121 - val_output_2_loss: 0.0745 - val_output_1_r_square: 0.5027 - val_output_2_accuracy: 0.9764\n",
      "Epoch 23/80\n",
      "345/345 [==============================] - 101s 291ms/step - loss: 0.0827 - output_1_loss: 0.0112 - output_2_loss: 0.0715 - output_1_r_square: 0.5363 - output_2_accuracy: 0.9725 - val_loss: 0.0927 - val_output_1_loss: 0.0114 - val_output_2_loss: 0.0813 - val_output_1_r_square: 0.5321 - val_output_2_accuracy: 0.9764\n",
      "Epoch 24/80\n",
      "345/345 [==============================] - 99s 286ms/step - loss: 0.0805 - output_1_loss: 0.0110 - output_2_loss: 0.0695 - output_1_r_square: 0.5436 - output_2_accuracy: 0.9727 - val_loss: 0.0709 - val_output_1_loss: 0.0118 - val_output_2_loss: 0.0591 - val_output_1_r_square: 0.5172 - val_output_2_accuracy: 0.9804\n",
      "Epoch 25/80\n",
      "345/345 [==============================] - 99s 287ms/step - loss: 0.0766 - output_1_loss: 0.0108 - output_2_loss: 0.0659 - output_1_r_square: 0.5543 - output_2_accuracy: 0.9739 - val_loss: 0.1807 - val_output_1_loss: 0.0219 - val_output_2_loss: 0.1587 - val_output_1_r_square: 0.1010 - val_output_2_accuracy: 0.9609\n"
     ]
    },
    {
     "name": "stdout",
     "output_type": "stream",
     "text": [
      "Epoch 26/80\n",
      "345/345 [==============================] - 100s 288ms/step - loss: 0.0778 - output_1_loss: 0.0104 - output_2_loss: 0.0674 - output_1_r_square: 0.5698 - output_2_accuracy: 0.9722 - val_loss: 0.1028 - val_output_1_loss: 0.0109 - val_output_2_loss: 0.0919 - val_output_1_r_square: 0.5542 - val_output_2_accuracy: 0.9605\n",
      "Epoch 27/80\n",
      "345/345 [==============================] - 99s 285ms/step - loss: 0.0732 - output_1_loss: 0.0104 - output_2_loss: 0.0628 - output_1_r_square: 0.5698 - output_2_accuracy: 0.9745 - val_loss: 0.0838 - val_output_1_loss: 0.0131 - val_output_2_loss: 0.0707 - val_output_1_r_square: 0.4634 - val_output_2_accuracy: 0.9775\n",
      "Epoch 28/80\n",
      "345/345 [==============================] - 99s 287ms/step - loss: 0.0716 - output_1_loss: 0.0105 - output_2_loss: 0.0612 - output_1_r_square: 0.5655 - output_2_accuracy: 0.9761 - val_loss: 0.1011 - val_output_1_loss: 0.0150 - val_output_2_loss: 0.0861 - val_output_1_r_square: 0.3840 - val_output_2_accuracy: 0.9746\n",
      "Epoch 29/80\n",
      "345/345 [==============================] - 99s 288ms/step - loss: 0.0713 - output_1_loss: 0.0103 - output_2_loss: 0.0610 - output_1_r_square: 0.5737 - output_2_accuracy: 0.9771 - val_loss: 0.0845 - val_output_1_loss: 0.0116 - val_output_2_loss: 0.0729 - val_output_1_r_square: 0.5249 - val_output_2_accuracy: 0.9688\n",
      "Epoch 30/80\n",
      "345/345 [==============================] - 99s 285ms/step - loss: 0.0729 - output_1_loss: 0.0101 - output_2_loss: 0.0628 - output_1_r_square: 0.5813 - output_2_accuracy: 0.9750 - val_loss: 0.0804 - val_output_1_loss: 0.0134 - val_output_2_loss: 0.0670 - val_output_1_r_square: 0.4510 - val_output_2_accuracy: 0.9775\n",
      "Epoch 31/80\n",
      "345/345 [==============================] - 99s 287ms/step - loss: 0.0782 - output_1_loss: 0.0104 - output_2_loss: 0.0678 - output_1_r_square: 0.5703 - output_2_accuracy: 0.9727 - val_loss: 0.0782 - val_output_1_loss: 0.0112 - val_output_2_loss: 0.0670 - val_output_1_r_square: 0.5410 - val_output_2_accuracy: 0.9768\n",
      "Epoch 32/80\n",
      "345/345 [==============================] - 99s 286ms/step - loss: 0.0674 - output_1_loss: 0.0098 - output_2_loss: 0.0576 - output_1_r_square: 0.5930 - output_2_accuracy: 0.9782 - val_loss: 0.0742 - val_output_1_loss: 0.0128 - val_output_2_loss: 0.0613 - val_output_1_r_square: 0.4736 - val_output_2_accuracy: 0.9801\n",
      "Epoch 33/80\n",
      "345/345 [==============================] - 101s 291ms/step - loss: 0.0654 - output_1_loss: 0.0097 - output_2_loss: 0.0556 - output_1_r_square: 0.5962 - output_2_accuracy: 0.9789 - val_loss: 0.0625 - val_output_1_loss: 0.0090 - val_output_2_loss: 0.0534 - val_output_1_r_square: 0.6301 - val_output_2_accuracy: 0.9815\n",
      "Epoch 34/80\n",
      "345/345 [==============================] - 100s 289ms/step - loss: 0.0622 - output_1_loss: 0.0095 - output_2_loss: 0.0527 - output_1_r_square: 0.6066 - output_2_accuracy: 0.9790 - val_loss: 0.0636 - val_output_1_loss: 0.0098 - val_output_2_loss: 0.0538 - val_output_1_r_square: 0.5986 - val_output_2_accuracy: 0.9804\n",
      "Epoch 35/80\n",
      "345/345 [==============================] - 99s 286ms/step - loss: 0.0626 - output_1_loss: 0.0094 - output_2_loss: 0.0532 - output_1_r_square: 0.6093 - output_2_accuracy: 0.9802 - val_loss: 0.0611 - val_output_1_loss: 0.0094 - val_output_2_loss: 0.0517 - val_output_1_r_square: 0.6133 - val_output_2_accuracy: 0.9822\n",
      "Epoch 36/80\n",
      "345/345 [==============================] - 99s 288ms/step - loss: 0.0660 - output_1_loss: 0.0096 - output_2_loss: 0.0564 - output_1_r_square: 0.6027 - output_2_accuracy: 0.9784 - val_loss: 0.1200 - val_output_1_loss: 0.0149 - val_output_2_loss: 0.1052 - val_output_1_r_square: 0.3909 - val_output_2_accuracy: 0.9739\n",
      "Epoch 37/80\n",
      "345/345 [==============================] - 100s 288ms/step - loss: 0.0593 - output_1_loss: 0.0095 - output_2_loss: 0.0498 - output_1_r_square: 0.6049 - output_2_accuracy: 0.9809 - val_loss: 0.1409 - val_output_1_loss: 0.0123 - val_output_2_loss: 0.1286 - val_output_1_r_square: 0.4965 - val_output_2_accuracy: 0.9445\n",
      "Epoch 38/80\n",
      "345/345 [==============================] - 99s 285ms/step - loss: 0.0592 - output_1_loss: 0.0096 - output_2_loss: 0.0496 - output_1_r_square: 0.6023 - output_2_accuracy: 0.9811 - val_loss: 0.0613 - val_output_1_loss: 0.0092 - val_output_2_loss: 0.0521 - val_output_1_r_square: 0.6245 - val_output_2_accuracy: 0.9826\n",
      "Epoch 39/80\n",
      "345/345 [==============================] - 99s 286ms/step - loss: 0.0586 - output_1_loss: 0.0095 - output_2_loss: 0.0491 - output_1_r_square: 0.6060 - output_2_accuracy: 0.9798 - val_loss: 0.0895 - val_output_1_loss: 0.0105 - val_output_2_loss: 0.0790 - val_output_1_r_square: 0.5707 - val_output_2_accuracy: 0.9764\n",
      "Epoch 40/80\n",
      "345/345 [==============================] - 100s 289ms/step - loss: 0.0597 - output_1_loss: 0.0094 - output_2_loss: 0.0503 - output_1_r_square: 0.6110 - output_2_accuracy: 0.9809 - val_loss: 0.0609 - val_output_1_loss: 0.0094 - val_output_2_loss: 0.0514 - val_output_1_r_square: 0.6135 - val_output_2_accuracy: 0.9822\n",
      "Epoch 41/80\n",
      "345/345 [==============================] - 99s 287ms/step - loss: 0.0567 - output_1_loss: 0.0093 - output_2_loss: 0.0475 - output_1_r_square: 0.6150 - output_2_accuracy: 0.9811 - val_loss: 0.0744 - val_output_1_loss: 0.0094 - val_output_2_loss: 0.0650 - val_output_1_r_square: 0.6149 - val_output_2_accuracy: 0.9797\n",
      "Epoch 42/80\n",
      "345/345 [==============================] - 99s 286ms/step - loss: 0.0574 - output_1_loss: 0.0092 - output_2_loss: 0.0481 - output_1_r_square: 0.6187 - output_2_accuracy: 0.9814 - val_loss: 0.0964 - val_output_1_loss: 0.0144 - val_output_2_loss: 0.0820 - val_output_1_r_square: 0.4081 - val_output_2_accuracy: 0.9746\n",
      "Epoch 43/80\n",
      "345/345 [==============================] - 99s 286ms/step - loss: 0.0546 - output_1_loss: 0.0091 - output_2_loss: 0.0455 - output_1_r_square: 0.6224 - output_2_accuracy: 0.9811 - val_loss: 0.0768 - val_output_1_loss: 0.0132 - val_output_2_loss: 0.0636 - val_output_1_r_square: 0.4609 - val_output_2_accuracy: 0.9808\n",
      "Epoch 44/80\n",
      "345/345 [==============================] - 99s 285ms/step - loss: 0.0512 - output_1_loss: 0.0089 - output_2_loss: 0.0423 - output_1_r_square: 0.6330 - output_2_accuracy: 0.9832 - val_loss: 0.0727 - val_output_1_loss: 0.0177 - val_output_2_loss: 0.0551 - val_output_1_r_square: 0.2759 - val_output_2_accuracy: 0.9826\n",
      "Epoch 45/80\n",
      "345/345 [==============================] - 99s 286ms/step - loss: 0.0566 - output_1_loss: 0.0092 - output_2_loss: 0.0474 - output_1_r_square: 0.6183 - output_2_accuracy: 0.9824 - val_loss: 0.1003 - val_output_1_loss: 0.0183 - val_output_2_loss: 0.0819 - val_output_1_r_square: 0.2486 - val_output_2_accuracy: 0.9725\n",
      "Epoch 46/80\n",
      "345/345 [==============================] - 99s 286ms/step - loss: 0.0514 - output_1_loss: 0.0091 - output_2_loss: 0.0423 - output_1_r_square: 0.6225 - output_2_accuracy: 0.9838 - val_loss: 0.0637 - val_output_1_loss: 0.0110 - val_output_2_loss: 0.0527 - val_output_1_r_square: 0.5499 - val_output_2_accuracy: 0.9801\n",
      "Epoch 47/80\n",
      "345/345 [==============================] - 99s 286ms/step - loss: 0.0560 - output_1_loss: 0.0089 - output_2_loss: 0.0471 - output_1_r_square: 0.6322 - output_2_accuracy: 0.9818 - val_loss: 0.0723 - val_output_1_loss: 0.0099 - val_output_2_loss: 0.0625 - val_output_1_r_square: 0.5958 - val_output_2_accuracy: 0.9822\n",
      "Epoch 48/80\n",
      "345/345 [==============================] - 100s 290ms/step - loss: 0.0549 - output_1_loss: 0.0090 - output_2_loss: 0.0459 - output_1_r_square: 0.6271 - output_2_accuracy: 0.9825 - val_loss: 0.0600 - val_output_1_loss: 0.0087 - val_output_2_loss: 0.0513 - val_output_1_r_square: 0.6431 - val_output_2_accuracy: 0.9819\n",
      "Epoch 49/80\n",
      "345/345 [==============================] - 100s 290ms/step - loss: 0.0528 - output_1_loss: 0.0088 - output_2_loss: 0.0440 - output_1_r_square: 0.6363 - output_2_accuracy: 0.9829 - val_loss: 0.0830 - val_output_1_loss: 0.0090 - val_output_2_loss: 0.0739 - val_output_1_r_square: 0.6294 - val_output_2_accuracy: 0.9659\n",
      "Epoch 50/80\n",
      "345/345 [==============================] - 99s 287ms/step - loss: 0.0527 - output_1_loss: 0.0088 - output_2_loss: 0.0439 - output_1_r_square: 0.6358 - output_2_accuracy: 0.9845 - val_loss: 0.0727 - val_output_1_loss: 0.0097 - val_output_2_loss: 0.0630 - val_output_1_r_square: 0.6039 - val_output_2_accuracy: 0.9801\n"
     ]
    },
    {
     "name": "stdout",
     "output_type": "stream",
     "text": [
      "Epoch 51/80\n",
      "345/345 [==============================] - 102s 295ms/step - loss: 0.0521 - output_1_loss: 0.0089 - output_2_loss: 0.0431 - output_1_r_square: 0.6296 - output_2_accuracy: 0.9840 - val_loss: 0.0693 - val_output_1_loss: 0.0089 - val_output_2_loss: 0.0603 - val_output_1_r_square: 0.6336 - val_output_2_accuracy: 0.9819\n",
      "Epoch 52/80\n",
      "345/345 [==============================] - 102s 295ms/step - loss: 0.0489 - output_1_loss: 0.0090 - output_2_loss: 0.0399 - output_1_r_square: 0.6277 - output_2_accuracy: 0.9839 - val_loss: 0.0656 - val_output_1_loss: 0.0108 - val_output_2_loss: 0.0548 - val_output_1_r_square: 0.5556 - val_output_2_accuracy: 0.9757\n",
      "Epoch 53/80\n",
      "345/345 [==============================] - 101s 292ms/step - loss: 0.0479 - output_1_loss: 0.0088 - output_2_loss: 0.0391 - output_1_r_square: 0.6360 - output_2_accuracy: 0.9850 - val_loss: 0.0515 - val_output_1_loss: 0.0083 - val_output_2_loss: 0.0431 - val_output_1_r_square: 0.6585 - val_output_2_accuracy: 0.9862\n",
      "Epoch 54/80\n",
      "345/345 [==============================] - 98s 285ms/step - loss: 0.0477 - output_1_loss: 0.0087 - output_2_loss: 0.0390 - output_1_r_square: 0.6400 - output_2_accuracy: 0.9854 - val_loss: 0.0903 - val_output_1_loss: 0.0114 - val_output_2_loss: 0.0789 - val_output_1_r_square: 0.5323 - val_output_2_accuracy: 0.9775\n",
      "Epoch 55/80\n",
      "345/345 [==============================] - 99s 286ms/step - loss: 0.0463 - output_1_loss: 0.0085 - output_2_loss: 0.0378 - output_1_r_square: 0.6469 - output_2_accuracy: 0.9858 - val_loss: 0.0775 - val_output_1_loss: 0.0116 - val_output_2_loss: 0.0659 - val_output_1_r_square: 0.5265 - val_output_2_accuracy: 0.9837\n",
      "Epoch 56/80\n",
      "345/345 [==============================] - 99s 285ms/step - loss: 0.0501 - output_1_loss: 0.0087 - output_2_loss: 0.0413 - output_1_r_square: 0.6381 - output_2_accuracy: 0.9845 - val_loss: 0.0651 - val_output_1_loss: 0.0102 - val_output_2_loss: 0.0549 - val_output_1_r_square: 0.5828 - val_output_2_accuracy: 0.9783\n",
      "Epoch 57/80\n",
      "345/345 [==============================] - 99s 286ms/step - loss: 0.0464 - output_1_loss: 0.0089 - output_2_loss: 0.0375 - output_1_r_square: 0.6315 - output_2_accuracy: 0.9851 - val_loss: 0.0587 - val_output_1_loss: 0.0128 - val_output_2_loss: 0.0458 - val_output_1_r_square: 0.4738 - val_output_2_accuracy: 0.9862\n",
      "Epoch 58/80\n",
      "345/345 [==============================] - 99s 286ms/step - loss: 0.0478 - output_1_loss: 0.0086 - output_2_loss: 0.0392 - output_1_r_square: 0.6430 - output_2_accuracy: 0.9844 - val_loss: 0.0639 - val_output_1_loss: 0.0092 - val_output_2_loss: 0.0548 - val_output_1_r_square: 0.6241 - val_output_2_accuracy: 0.9804\n",
      "Epoch 59/80\n",
      "345/345 [==============================] - 99s 285ms/step - loss: 0.0454 - output_1_loss: 0.0088 - output_2_loss: 0.0367 - output_1_r_square: 0.6374 - output_2_accuracy: 0.9861 - val_loss: 0.0802 - val_output_1_loss: 0.0122 - val_output_2_loss: 0.0680 - val_output_1_r_square: 0.5016 - val_output_2_accuracy: 0.9764\n",
      "Epoch 60/80\n",
      "345/345 [==============================] - 99s 285ms/step - loss: 0.0499 - output_1_loss: 0.0086 - output_2_loss: 0.0414 - output_1_r_square: 0.6454 - output_2_accuracy: 0.9837 - val_loss: 0.0656 - val_output_1_loss: 0.0107 - val_output_2_loss: 0.0549 - val_output_1_r_square: 0.5631 - val_output_2_accuracy: 0.9844\n",
      "Epoch 61/80\n",
      "345/345 [==============================] - 98s 285ms/step - loss: 0.0419 - output_1_loss: 0.0085 - output_2_loss: 0.0334 - output_1_r_square: 0.6466 - output_2_accuracy: 0.9878 - val_loss: 0.0639 - val_output_1_loss: 0.0088 - val_output_2_loss: 0.0551 - val_output_1_r_square: 0.6388 - val_output_2_accuracy: 0.9786\n",
      "Epoch 62/80\n",
      "345/345 [==============================] - 99s 286ms/step - loss: 0.0449 - output_1_loss: 0.0085 - output_2_loss: 0.0363 - output_1_r_square: 0.6471 - output_2_accuracy: 0.9858 - val_loss: 0.0689 - val_output_1_loss: 0.0082 - val_output_2_loss: 0.0606 - val_output_1_r_square: 0.6637 - val_output_2_accuracy: 0.9772\n",
      "Epoch 63/80\n",
      "345/345 [==============================] - 99s 285ms/step - loss: 0.0458 - output_1_loss: 0.0086 - output_2_loss: 0.0373 - output_1_r_square: 0.6445 - output_2_accuracy: 0.9851 - val_loss: 0.0567 - val_output_1_loss: 0.0113 - val_output_2_loss: 0.0454 - val_output_1_r_square: 0.5368 - val_output_2_accuracy: 0.9841\n"
     ]
    },
    {
     "name": "stderr",
     "output_type": "stream",
     "text": [
      "WARNING:absl:Found untraced functions such as _jit_compiled_convolution_op, _jit_compiled_convolution_op, _jit_compiled_convolution_op, _jit_compiled_convolution_op, _jit_compiled_convolution_op while saving (showing 5 of 6). These functions will not be directly callable after loading.\n"
     ]
    },
    {
     "name": "stdout",
     "output_type": "stream",
     "text": [
      "INFO:tensorflow:Assets written to: model/Nvidia_CNN/assets\n"
     ]
    },
    {
     "name": "stderr",
     "output_type": "stream",
     "text": [
      "INFO:tensorflow:Assets written to: model/Nvidia_CNN/assets\n"
     ]
    }
   ],
   "source": [
    "tf.keras.backend.clear_session()\n",
    "\n",
    "# Early stop added\n",
    "callback = tf.keras.callbacks.EarlyStopping(monitor='val_loss', patience=10)\n",
    "\n",
    "train_gen = ImageDataGenerator(rescale=1./255,width_shift_range=0.1, height_shift_range=0.1)\n",
    "val_gen = ImageDataGenerator(rescale=1./255)\n",
    "\n",
    "model = Nvidia_CNN()\n",
    "\n",
    "\n",
    "model.compile(optimizer=tf.keras.optimizers.Adam(learning_rate=1e-4),\n",
    "                       loss={\n",
    "        \"output_1\" : tf.keras.losses.MeanSquaredError(),\n",
    "        \"output_2\" : tf.keras.losses.BinaryCrossentropy(from_logits=False)},\n",
    "        metrics={\"output_1\": [RSquare()], \"output_2\": 'accuracy'})\n",
    "\n",
    "\n",
    "history= model.fit(train_gen.flow_from_dataframe(X_train,x_col='images',y_col=['angle','speed'],class_mode='multi_output',\n",
    "                                        target_size=(240,180),batch_size=32),\n",
    "    validation_data=val_gen.flow_from_dataframe(X_valid, x_col='images',y_col=['angle','speed'],class_mode='multi_output',\n",
    "    target_size=(240,180),batch_size=32), callbacks= [callback], epochs=80)\n",
    "\n",
    "model.save('model/Nvidia_CNN',save_format='tf')"
   ]
  },
  {
   "cell_type": "code",
   "execution_count": 16,
   "id": "14e15b9d",
   "metadata": {},
   "outputs": [],
   "source": [
    "def plots(history):\n",
    "    # summarize history for accuracy\n",
    "    fig, ((ax1, ax2),(ax3, ax4)) = plt.subplots(2, 2, sharex=True, figsize=(10,6))\n",
    "    \n",
    "    ax1.set_title('Angle R Squared')\n",
    "    ax1.plot(history.history['output_1_r_square'])\n",
    "    ax1.plot(history.history['val_output_1_r_square'])\n",
    "    ax1.set_yscale('log')\n",
    "    ax1.legend(['train', 'test'], loc='lower right')\n",
    "    \n",
    "    ax2.set_title('Speed Accuracy')\n",
    "    ax2.plot(history.history['output_2_accuracy'])\n",
    "    ax2.plot(history.history['val_output_2_accuracy'])\n",
    "    ax2.set_yscale('log')\n",
    "    ax2.legend(['train', 'test'], loc='lower right')\n",
    "    \n",
    "    # summarize history for loss\n",
    "    ax3.set_title('Angle MSE loss')  \n",
    "    ax3.plot(history.history['output_1_loss'])\n",
    "    ax3.plot(history.history['val_output_1_loss'])\n",
    "    ax3.set_yscale('log')\n",
    "    ax3.legend(['train', 'test'], loc='upper right')\n",
    "   \n",
    "    ax4.set_title('Speed loss')\n",
    "    ax4.plot(history.history['output_2_loss'])\n",
    "    ax4.plot(history.history['val_output_2_loss'])\n",
    "    ax4.set_yscale('log')\n",
    "    ax4.legend(['train', 'test'], loc='upper right')\n",
    "    plt.show()\n",
    "    \n",
    "    \n",
    "    plt.plot(history.history['loss'])\n",
    "    plt.plot(history.history['val_loss'])\n",
    "    plt.title('model loss')\n",
    "    plt.ylabel('loss')\n",
    "    plt.xlabel('epoch')\n",
    "    plt.legend(['train', 'test'], loc='upper left')\n",
    "    plt.show()\n",
    "    "
   ]
  },
  {
   "cell_type": "code",
   "execution_count": 17,
   "id": "0b23bbb7",
   "metadata": {
    "scrolled": true
   },
   "outputs": [
    {
     "data": {
      "image/png": "[encoded data removed]",
      "text/plain": [
       "<Figure size 720x432 with 4 Axes>"
      ]
     },
     "metadata": {
      "needs_background": "light"
     },
     "output_type": "display_data"
    },
    {
     "data": {
      "image/png": "[encoded data removed]",
      "text/plain": [
       "<Figure size 432x288 with 1 Axes>"
      ]
     },
     "metadata": {
      "needs_background": "light"
     },
     "output_type": "display_data"
    }
   ],
   "source": [
    "plots(history)\n"
   ]
  },
  {
   "cell_type": "markdown",
   "id": "5496b042",
   "metadata": {},
   "source": [
    "# Evaluation using validation set"
   ]
  },
  {
   "cell_type": "code",
   "execution_count": 22,
   "id": "5c40debb",
   "metadata": {},
   "outputs": [
    {
     "name": "stdout",
     "output_type": "stream",
     "text": [
      "Found 2759 validated image filenames.\n",
      "87/87 [==============================] - 6s 68ms/step\n"
     ]
    }
   ],
   "source": [
    "predict_val = model.predict(val_gen.flow_from_dataframe(X_valid, x_col='images',y_col=[,'angle','speed'],class_mode='multi_output',\n",
    "    target_size=(240,180),batch_size=32))"
   ]
  },
  {
   "cell_type": "code",
   "execution_count": 56,
   "id": "1c1fa24a",
   "metadata": {},
   "outputs": [
    {
     "data": {
      "text/html": [
       "<div>\n",
       "<style scoped>\n",
       "    .dataframe tbody tr th:only-of-type {\n",
       "        vertical-align: middle;\n",
       "    }\n",
       "\n",
       "    .dataframe tbody tr th {\n",
       "        vertical-align: top;\n",
       "    }\n",
       "\n",
       "    .dataframe thead th {\n",
       "        text-align: right;\n",
       "    }\n",
       "</style>\n",
       "<table border=\"1\" class=\"dataframe\">\n",
       "  <thead>\n",
       "    <tr style=\"text-align: right;\">\n",
       "      <th></th>\n",
       "      <th>image_id</th>\n",
       "      <th>Angle</th>\n",
       "      <th>speed</th>\n",
       "    </tr>\n",
       "  </thead>\n",
       "  <tbody>\n",
       "    <tr>\n",
       "      <th>0</th>\n",
       "      <td>1</td>\n",
       "      <td>0.638353</td>\n",
       "      <td>0.999942</td>\n",
       "    </tr>\n",
       "    <tr>\n",
       "      <th>1</th>\n",
       "      <td>2</td>\n",
       "      <td>0.445826</td>\n",
       "      <td>0.000011</td>\n",
       "    </tr>\n",
       "    <tr>\n",
       "      <th>2</th>\n",
       "      <td>3</td>\n",
       "      <td>0.700957</td>\n",
       "      <td>0.999579</td>\n",
       "    </tr>\n",
       "    <tr>\n",
       "      <th>3</th>\n",
       "      <td>4</td>\n",
       "      <td>0.488266</td>\n",
       "      <td>0.000024</td>\n",
       "    </tr>\n",
       "    <tr>\n",
       "      <th>4</th>\n",
       "      <td>5</td>\n",
       "      <td>0.485734</td>\n",
       "      <td>0.999989</td>\n",
       "    </tr>\n",
       "  </tbody>\n",
       "</table>\n",
       "</div>"
      ],
      "text/plain": [
       "   image_id     Angle     speed\n",
       "0         1  0.638353  0.999942\n",
       "1         2  0.445826  0.000011\n",
       "2         3  0.700957  0.999579\n",
       "3         4  0.488266  0.000024\n",
       "4         5  0.485734  0.999989"
      ]
     },
     "execution_count": 56,
     "metadata": {},
     "output_type": "execute_result"
    }
   ],
   "source": [
    "angles = pd.DataFrame(predict_val[0], columns=['Angle'])\n",
    "speed = pd.DataFrame(predict_val[1], columns=['speed'])\n",
    "pred_df = pd.concat([angles, speed],axis=1)\n",
    "pred_df.insert(0,\"image_id\", np.arange(1,len(pred_df)+1))\n",
    "\n",
    "pred_df.head()"
   ]
  },
  {
   "cell_type": "code",
   "execution_count": 37,
   "id": "56fbd721",
   "metadata": {},
   "outputs": [
    {
     "data": {
      "text/html": [
       "<div>\n",
       "<style scoped>\n",
       "    .dataframe tbody tr th:only-of-type {\n",
       "        vertical-align: middle;\n",
       "    }\n",
       "\n",
       "    .dataframe tbody tr th {\n",
       "        vertical-align: top;\n",
       "    }\n",
       "\n",
       "    .dataframe thead th {\n",
       "        text-align: right;\n",
       "    }\n",
       "</style>\n",
       "<table border=\"1\" class=\"dataframe\">\n",
       "  <thead>\n",
       "    <tr style=\"text-align: right;\">\n",
       "      <th></th>\n",
       "      <th>image_id</th>\n",
       "      <th>Angle</th>\n",
       "      <th>speed</th>\n",
       "    </tr>\n",
       "  </thead>\n",
       "  <tbody>\n",
       "    <tr>\n",
       "      <th>0</th>\n",
       "      <td>1</td>\n",
       "      <td>0.6384</td>\n",
       "      <td>1.0</td>\n",
       "    </tr>\n",
       "    <tr>\n",
       "      <th>1</th>\n",
       "      <td>2</td>\n",
       "      <td>0.4458</td>\n",
       "      <td>0.0</td>\n",
       "    </tr>\n",
       "    <tr>\n",
       "      <th>2</th>\n",
       "      <td>3</td>\n",
       "      <td>0.7010</td>\n",
       "      <td>1.0</td>\n",
       "    </tr>\n",
       "    <tr>\n",
       "      <th>3</th>\n",
       "      <td>4</td>\n",
       "      <td>0.4883</td>\n",
       "      <td>0.0</td>\n",
       "    </tr>\n",
       "    <tr>\n",
       "      <th>4</th>\n",
       "      <td>5</td>\n",
       "      <td>0.4857</td>\n",
       "      <td>1.0</td>\n",
       "    </tr>\n",
       "  </tbody>\n",
       "</table>\n",
       "</div>"
      ],
      "text/plain": [
       "   image_id   Angle  speed\n",
       "0         1  0.6384    1.0\n",
       "1         2  0.4458    0.0\n",
       "2         3  0.7010    1.0\n",
       "3         4  0.4883    0.0\n",
       "4         5  0.4857    1.0"
      ]
     },
     "execution_count": 37,
     "metadata": {},
     "output_type": "execute_result"
    }
   ],
   "source": [
    "pred_df_rnd = pred_df.round({'Angle': 4, 'speed': 0})\n",
    "pred_df_rnd.head()"
   ]
  },
  {
   "cell_type": "code",
   "execution_count": 42,
   "id": "9818c8d3",
   "metadata": {},
   "outputs": [
    {
     "data": {
      "text/html": [
       "<div>\n",
       "<style scoped>\n",
       "    .dataframe tbody tr th:only-of-type {\n",
       "        vertical-align: middle;\n",
       "    }\n",
       "\n",
       "    .dataframe tbody tr th {\n",
       "        vertical-align: top;\n",
       "    }\n",
       "\n",
       "    .dataframe thead th {\n",
       "        text-align: right;\n",
       "    }\n",
       "</style>\n",
       "<table border=\"1\" class=\"dataframe\">\n",
       "  <thead>\n",
       "    <tr style=\"text-align: right;\">\n",
       "      <th></th>\n",
       "      <th>image_id</th>\n",
       "      <th>Angle</th>\n",
       "      <th>speed</th>\n",
       "    </tr>\n",
       "  </thead>\n",
       "  <tbody>\n",
       "    <tr>\n",
       "      <th>0</th>\n",
       "      <td>1</td>\n",
       "      <td>0.6384</td>\n",
       "      <td>1</td>\n",
       "    </tr>\n",
       "    <tr>\n",
       "      <th>1</th>\n",
       "      <td>2</td>\n",
       "      <td>0.4458</td>\n",
       "      <td>0</td>\n",
       "    </tr>\n",
       "    <tr>\n",
       "      <th>2</th>\n",
       "      <td>3</td>\n",
       "      <td>0.7010</td>\n",
       "      <td>1</td>\n",
       "    </tr>\n",
       "    <tr>\n",
       "      <th>3</th>\n",
       "      <td>4</td>\n",
       "      <td>0.4883</td>\n",
       "      <td>0</td>\n",
       "    </tr>\n",
       "    <tr>\n",
       "      <th>4</th>\n",
       "      <td>5</td>\n",
       "      <td>0.4857</td>\n",
       "      <td>1</td>\n",
       "    </tr>\n",
       "  </tbody>\n",
       "</table>\n",
       "</div>"
      ],
      "text/plain": [
       "   image_id   Angle  speed\n",
       "0         1  0.6384      1\n",
       "1         2  0.4458      0\n",
       "2         3  0.7010      1\n",
       "3         4  0.4883      0\n",
       "4         5  0.4857      1"
      ]
     },
     "execution_count": 42,
     "metadata": {},
     "output_type": "execute_result"
    }
   ],
   "source": [
    "pred_df_rnd['speed'] = pd.to_numeric(pred_df_rnd['speed'],downcast=\"integer\" )\n",
    "pred_df_rnd.head()"
   ]
  },
  {
   "cell_type": "code",
   "execution_count": 48,
   "id": "f833ce5e",
   "metadata": {},
   "outputs": [
    {
     "data": {
      "text/plain": [
       "dtype('float64')"
      ]
     },
     "execution_count": 48,
     "metadata": {},
     "output_type": "execute_result"
    }
   ],
   "source": [
    "X_valid['speed'].dtype"
   ]
  },
  {
   "cell_type": "code",
   "execution_count": 49,
   "id": "f54e1288",
   "metadata": {},
   "outputs": [
    {
     "data": {
      "text/html": [
       "<div>\n",
       "<style scoped>\n",
       "    .dataframe tbody tr th:only-of-type {\n",
       "        vertical-align: middle;\n",
       "    }\n",
       "\n",
       "    .dataframe tbody tr th {\n",
       "        vertical-align: top;\n",
       "    }\n",
       "\n",
       "    .dataframe thead th {\n",
       "        text-align: right;\n",
       "    }\n",
       "</style>\n",
       "<table border=\"1\" class=\"dataframe\">\n",
       "  <thead>\n",
       "    <tr style=\"text-align: right;\">\n",
       "      <th></th>\n",
       "      <th>angle</th>\n",
       "      <th>speed</th>\n",
       "      <th>images</th>\n",
       "    </tr>\n",
       "  </thead>\n",
       "  <tbody>\n",
       "    <tr>\n",
       "      <th>8510</th>\n",
       "      <td>0.5625</td>\n",
       "      <td>0</td>\n",
       "      <td>../datasets/PiCar/train/training_data/8515.png</td>\n",
       "    </tr>\n",
       "    <tr>\n",
       "      <th>11527</th>\n",
       "      <td>0.8125</td>\n",
       "      <td>1</td>\n",
       "      <td>../datasets/PiCar/train/training_data/11533.png</td>\n",
       "    </tr>\n",
       "    <tr>\n",
       "      <th>6711</th>\n",
       "      <td>0.8125</td>\n",
       "      <td>1</td>\n",
       "      <td>../datasets/PiCar/train/training_data/6715.png</td>\n",
       "    </tr>\n",
       "    <tr>\n",
       "      <th>1921</th>\n",
       "      <td>0.7500</td>\n",
       "      <td>0</td>\n",
       "      <td>../datasets/PiCar/train/training_data/1922.png</td>\n",
       "    </tr>\n",
       "    <tr>\n",
       "      <th>12631</th>\n",
       "      <td>0.7500</td>\n",
       "      <td>1</td>\n",
       "      <td>../datasets/PiCar/train/training_data/12637.png</td>\n",
       "    </tr>\n",
       "  </tbody>\n",
       "</table>\n",
       "</div>"
      ],
      "text/plain": [
       "        angle  speed                                           images\n",
       "8510   0.5625      0   ../datasets/PiCar/train/training_data/8515.png\n",
       "11527  0.8125      1  ../datasets/PiCar/train/training_data/11533.png\n",
       "6711   0.8125      1   ../datasets/PiCar/train/training_data/6715.png\n",
       "1921   0.7500      0   ../datasets/PiCar/train/training_data/1922.png\n",
       "12631  0.7500      1  ../datasets/PiCar/train/training_data/12637.png"
      ]
     },
     "execution_count": 49,
     "metadata": {},
     "output_type": "execute_result"
    }
   ],
   "source": [
    "X_valid['speed']=X_valid['speed'].astype(\"int\")\n",
    "X_valid.head()"
   ]
  },
  {
   "cell_type": "code",
   "execution_count": 50,
   "id": "20df15aa",
   "metadata": {},
   "outputs": [],
   "source": [
    "cm = confusion_matrix(X_valid['speed'], pred_df_rnd['speed'])"
   ]
  },
  {
   "cell_type": "code",
   "execution_count": 51,
   "id": "db9e483a",
   "metadata": {},
   "outputs": [
    {
     "name": "stdout",
     "output_type": "stream",
     "text": [
      "              precision    recall  f1-score   support\n",
      "\n",
      "           0       0.22      0.22      0.22       609\n",
      "           1       0.78      0.78      0.78      2150\n",
      "\n",
      "    accuracy                           0.66      2759\n",
      "   macro avg       0.50      0.50      0.50      2759\n",
      "weighted avg       0.66      0.66      0.66      2759\n",
      "\n"
     ]
    },
    {
     "data": {
      "image/png": "[encoded data removed]",
      "text/plain": [
       "<Figure size 216x216 with 1 Axes>"
      ]
     },
     "metadata": {
      "needs_background": "light"
     },
     "output_type": "display_data"
    }
   ],
   "source": [
    "# Plot confusion matrix\n",
    "fig, ax = plt.subplots(figsize=(3,3))\n",
    "ax.matshow(cm, cmap=plt.cm.Blues, alpha=0.3)\n",
    "for i in range(cm.shape[0]):\n",
    "    for j in range(cm.shape[1]):\n",
    "        ax.text(x=j, y=i, s=cm[i,j], va='center', ha='center')\n",
    "classes=[\"1\", \"0\"]\n",
    "tick_marks = np.arange(len(classes))\n",
    "plt.xticks(tick_marks, classes, rotation=45)\n",
    "plt.yticks(tick_marks, classes)\n",
    "plt.xlabel('Predicted Values',)\n",
    "plt.ylabel('actual Values',);\n",
    "print(classification_report(X_valid['speed'], pred_df_rnd['speed']))\n"
   ]
  },
  {
   "cell_type": "code",
   "execution_count": 57,
   "id": "5f6f0c60",
   "metadata": {},
   "outputs": [
    {
     "data": {
      "image/png": "[encoded data removed]",
      "text/plain": [
       "<Figure size 720x576 with 1 Axes>"
      ]
     },
     "metadata": {
      "needs_background": "light"
     },
     "output_type": "display_data"
    }
   ],
   "source": [
    "# Plot the rciever opertaing characteristic curve (ROC)\n",
    "from sklearn.metrics import roc_curve, auc\n",
    "\n",
    "plt.figure(figsize=(10,8))\n",
    "#probas_ = model.predict(X_valid['speed'])\n",
    "fpr, tpr, thresholds = roc_curve(X_valid['speed'], pred_df['speed'])\n",
    "roc_auc = auc(fpr,tpr)\n",
    "plt.plot(fpr,tpr, lw=1, label='ROC fold (area = %0.2f)' %(roc_auc))\n",
    "plt.plot([0, 1], [0, 1], '--', color=(0.6, 0.6, 0.6), label='Random')\n",
    "plt.xlim([-0.05,1.05])\n",
    "plt.ylim([-0.05,1.05])\n",
    "plt.xlabel('False positive rate | 1 - specificity (1 -  recall)')\n",
    "plt.ylabel('True positive rate | Sensitivity ( recall)')\n",
    "plt.title('Reciever operating characteristics')\n",
    "plt.legend(loc=\"lower right\")\n",
    "plt.axes().set_aspect(1);"
   ]
  },
  {
   "cell_type": "markdown",
   "id": "80f1cfdf",
   "metadata": {},
   "source": [
    "# Testing"
   ]
  },
  {
   "cell_type": "code",
   "execution_count": 18,
   "id": "0b51f3af",
   "metadata": {},
   "outputs": [
    {
     "name": "stdout",
     "output_type": "stream",
     "text": [
      "Found 1020 images belonging to 1 classes.\n",
      "32/32 [==============================] - 3s 83ms/step\n"
     ]
    }
   ],
   "source": [
    "testgen = ImageDataGenerator()\n",
    "\n",
    "predict = model.predict(val_gen.flow_from_directory('../datasets/PiCar/test',target_size=(240,180)))"
   ]
  },
  {
   "cell_type": "code",
   "execution_count": null,
   "id": "db3e4454",
   "metadata": {},
   "outputs": [],
   "source": []
  },
  {
   "cell_type": "code",
   "execution_count": 19,
   "id": "4100b174",
   "metadata": {},
   "outputs": [
    {
     "data": {
      "text/html": [
       "<div>\n",
       "<style scoped>\n",
       "    .dataframe tbody tr th:only-of-type {\n",
       "        vertical-align: middle;\n",
       "    }\n",
       "\n",
       "    .dataframe tbody tr th {\n",
       "        vertical-align: top;\n",
       "    }\n",
       "\n",
       "    .dataframe thead th {\n",
       "        text-align: right;\n",
       "    }\n",
       "</style>\n",
       "<table border=\"1\" class=\"dataframe\">\n",
       "  <thead>\n",
       "    <tr style=\"text-align: right;\">\n",
       "      <th></th>\n",
       "      <th>image_id</th>\n",
       "      <th>Angle</th>\n",
       "      <th>speed</th>\n",
       "    </tr>\n",
       "  </thead>\n",
       "  <tbody>\n",
       "    <tr>\n",
       "      <th>0</th>\n",
       "      <td>1</td>\n",
       "      <td>0.555329</td>\n",
       "      <td>0.000025</td>\n",
       "    </tr>\n",
       "    <tr>\n",
       "      <th>1</th>\n",
       "      <td>2</td>\n",
       "      <td>0.483741</td>\n",
       "      <td>0.000435</td>\n",
       "    </tr>\n",
       "    <tr>\n",
       "      <th>2</th>\n",
       "      <td>3</td>\n",
       "      <td>0.596318</td>\n",
       "      <td>0.000596</td>\n",
       "    </tr>\n",
       "    <tr>\n",
       "      <th>3</th>\n",
       "      <td>4</td>\n",
       "      <td>0.061079</td>\n",
       "      <td>0.999516</td>\n",
       "    </tr>\n",
       "    <tr>\n",
       "      <th>4</th>\n",
       "      <td>5</td>\n",
       "      <td>0.652922</td>\n",
       "      <td>0.999799</td>\n",
       "    </tr>\n",
       "    <tr>\n",
       "      <th>...</th>\n",
       "      <td>...</td>\n",
       "      <td>...</td>\n",
       "      <td>...</td>\n",
       "    </tr>\n",
       "    <tr>\n",
       "      <th>1015</th>\n",
       "      <td>1016</td>\n",
       "      <td>0.000000</td>\n",
       "      <td>0.991730</td>\n",
       "    </tr>\n",
       "    <tr>\n",
       "      <th>1016</th>\n",
       "      <td>1017</td>\n",
       "      <td>0.406098</td>\n",
       "      <td>0.001603</td>\n",
       "    </tr>\n",
       "    <tr>\n",
       "      <th>1017</th>\n",
       "      <td>1018</td>\n",
       "      <td>0.458745</td>\n",
       "      <td>0.000971</td>\n",
       "    </tr>\n",
       "    <tr>\n",
       "      <th>1018</th>\n",
       "      <td>1019</td>\n",
       "      <td>0.677850</td>\n",
       "      <td>1.000000</td>\n",
       "    </tr>\n",
       "    <tr>\n",
       "      <th>1019</th>\n",
       "      <td>1020</td>\n",
       "      <td>0.677319</td>\n",
       "      <td>0.000005</td>\n",
       "    </tr>\n",
       "  </tbody>\n",
       "</table>\n",
       "<p>1020 rows × 3 columns</p>\n",
       "</div>"
      ],
      "text/plain": [
       "      image_id     Angle     speed\n",
       "0            1  0.555329  0.000025\n",
       "1            2  0.483741  0.000435\n",
       "2            3  0.596318  0.000596\n",
       "3            4  0.061079  0.999516\n",
       "4            5  0.652922  0.999799\n",
       "...        ...       ...       ...\n",
       "1015      1016  0.000000  0.991730\n",
       "1016      1017  0.406098  0.001603\n",
       "1017      1018  0.458745  0.000971\n",
       "1018      1019  0.677850  1.000000\n",
       "1019      1020  0.677319  0.000005\n",
       "\n",
       "[1020 rows x 3 columns]"
      ]
     },
     "execution_count": 19,
     "metadata": {},
     "output_type": "execute_result"
    }
   ],
   "source": [
    "angles = pd.DataFrame(predict[0], columns=['Angle'])\n",
    "speed = pd.DataFrame(predict[1], columns=['speed'])\n",
    "pred_df = pd.concat([angles, speed],axis=1)\n",
    "pred_df.insert(0,\"image_id\", np.arange(1,len(pred_df)+1))\n",
    "\n",
    "pred_df"
   ]
  },
  {
   "cell_type": "code",
   "execution_count": 20,
   "id": "f34ec365",
   "metadata": {},
   "outputs": [
    {
     "data": {
      "text/html": [
       "<div>\n",
       "<style scoped>\n",
       "    .dataframe tbody tr th:only-of-type {\n",
       "        vertical-align: middle;\n",
       "    }\n",
       "\n",
       "    .dataframe tbody tr th {\n",
       "        vertical-align: top;\n",
       "    }\n",
       "\n",
       "    .dataframe thead th {\n",
       "        text-align: right;\n",
       "    }\n",
       "</style>\n",
       "<table border=\"1\" class=\"dataframe\">\n",
       "  <thead>\n",
       "    <tr style=\"text-align: right;\">\n",
       "      <th></th>\n",
       "      <th>image_id</th>\n",
       "      <th>Angle</th>\n",
       "      <th>speed</th>\n",
       "    </tr>\n",
       "  </thead>\n",
       "  <tbody>\n",
       "    <tr>\n",
       "      <th>0</th>\n",
       "      <td>1</td>\n",
       "      <td>0.5553</td>\n",
       "      <td>0.0</td>\n",
       "    </tr>\n",
       "    <tr>\n",
       "      <th>1</th>\n",
       "      <td>2</td>\n",
       "      <td>0.4837</td>\n",
       "      <td>0.0</td>\n",
       "    </tr>\n",
       "    <tr>\n",
       "      <th>2</th>\n",
       "      <td>3</td>\n",
       "      <td>0.5963</td>\n",
       "      <td>0.0</td>\n",
       "    </tr>\n",
       "    <tr>\n",
       "      <th>3</th>\n",
       "      <td>4</td>\n",
       "      <td>0.0611</td>\n",
       "      <td>1.0</td>\n",
       "    </tr>\n",
       "    <tr>\n",
       "      <th>4</th>\n",
       "      <td>5</td>\n",
       "      <td>0.6529</td>\n",
       "      <td>1.0</td>\n",
       "    </tr>\n",
       "    <tr>\n",
       "      <th>...</th>\n",
       "      <td>...</td>\n",
       "      <td>...</td>\n",
       "      <td>...</td>\n",
       "    </tr>\n",
       "    <tr>\n",
       "      <th>1015</th>\n",
       "      <td>1016</td>\n",
       "      <td>0.0000</td>\n",
       "      <td>1.0</td>\n",
       "    </tr>\n",
       "    <tr>\n",
       "      <th>1016</th>\n",
       "      <td>1017</td>\n",
       "      <td>0.4061</td>\n",
       "      <td>0.0</td>\n",
       "    </tr>\n",
       "    <tr>\n",
       "      <th>1017</th>\n",
       "      <td>1018</td>\n",
       "      <td>0.4587</td>\n",
       "      <td>0.0</td>\n",
       "    </tr>\n",
       "    <tr>\n",
       "      <th>1018</th>\n",
       "      <td>1019</td>\n",
       "      <td>0.6778</td>\n",
       "      <td>1.0</td>\n",
       "    </tr>\n",
       "    <tr>\n",
       "      <th>1019</th>\n",
       "      <td>1020</td>\n",
       "      <td>0.6773</td>\n",
       "      <td>0.0</td>\n",
       "    </tr>\n",
       "  </tbody>\n",
       "</table>\n",
       "<p>1020 rows × 3 columns</p>\n",
       "</div>"
      ],
      "text/plain": [
       "      image_id   Angle  speed\n",
       "0            1  0.5553    0.0\n",
       "1            2  0.4837    0.0\n",
       "2            3  0.5963    0.0\n",
       "3            4  0.0611    1.0\n",
       "4            5  0.6529    1.0\n",
       "...        ...     ...    ...\n",
       "1015      1016  0.0000    1.0\n",
       "1016      1017  0.4061    0.0\n",
       "1017      1018  0.4587    0.0\n",
       "1018      1019  0.6778    1.0\n",
       "1019      1020  0.6773    0.0\n",
       "\n",
       "[1020 rows x 3 columns]"
      ]
     },
     "execution_count": 20,
     "metadata": {},
     "output_type": "execute_result"
    }
   ],
   "source": [
    "pred_df = pred_df.round({'Angle': 4, 'speed': 0})\n",
    "pred_df"
   ]
  },
  {
   "cell_type": "code",
   "execution_count": 44,
   "id": "74aabf49",
   "metadata": {},
   "outputs": [],
   "source": [
    "pred_df.to_csv('Tow_mat5.csv', index=False)"
   ]
  },
  {
   "cell_type": "markdown",
   "id": "50308267",
   "metadata": {},
   "source": [
    "## Standalone models"
   ]
  },
  {
   "cell_type": "code",
   "execution_count": 13,
   "id": "c0108acd",
   "metadata": {},
   "outputs": [],
   "source": [
    "class angle_CNN(tf.keras.Model):\n",
    "  def __init__(self):\n",
    "    super().__init__()\n",
    "    \n",
    "    self.conv1 = Conv2D(24, 5,strides=(2, 2), activation='relu')\n",
    "    self.conv2 = Conv2D(36, 5, strides=(2, 2),activation='relu')\n",
    "    self.conv3 = Conv2D(48, 5, strides=(2, 2),activation='relu')\n",
    "    self.conv4 = Conv2D(64, 3, strides=(2, 2), activation='relu')\n",
    "    self.drop1 = Dropout(0.25)\n",
    "    self.conv5 = Conv2D(64, 3, strides=(2, 2),activation='relu')\n",
    "    \n",
    "    self.flatten = Flatten()\n",
    "    self.drop2 = Dropout(0.25)\n",
    "    self.d1 = Dense(128, activation='relu')\n",
    "    self.d2 = Dense(64, activation='relu')\n",
    "    self.d3 = Dense(32, activation='relu')\n",
    "    self.d4 = Dense(16, activation='relu')\n",
    "    \n",
    "    self.D4 = Dense(17, activation='softmax')\n",
    "    #self.D5 = Dense(1, activation = 'sigmoid')\n",
    "\n",
    "  def call(self, x):\n",
    "    x = self.conv1(x)\n",
    "    x = self.conv2(x)\n",
    "    x = self.conv3(x)\n",
    "    x = self.conv4(x)\n",
    "    x = self.drop1(x)\n",
    "    x = self.conv5(x)\n",
    "    \n",
    "    x = self.flatten(x)\n",
    "    x = self.drop2(x)\n",
    "    x = self.d1(x)\n",
    "    x = self.d2(x)\n",
    "    x = self.d3(x)\n",
    "    x = self.d4(x)\n",
    "    \n",
    "    y1 = self.D4(x)\n",
    "    #y2 = self.D5(x)\n",
    "    \n",
    "    \n",
    "    \n",
    "    return y1"
   ]
  },
  {
   "cell_type": "code",
   "execution_count": 14,
   "id": "3d7b7032",
   "metadata": {},
   "outputs": [
    {
     "name": "stdout",
     "output_type": "stream",
     "text": [
      "Found 11034 validated image filenames.\n",
      "Found 2759 validated image filenames.\n",
      "Epoch 1/20\n",
      "345/345 [==============================] - 118s 338ms/step - loss: 2.2410 - accuracy: 0.1878 - val_loss: 1.8291 - val_accuracy: 0.3103\n",
      "Epoch 2/20\n",
      "345/345 [==============================] - 115s 332ms/step - loss: 1.9276 - accuracy: 0.2668 - val_loss: 1.7275 - val_accuracy: 0.3240\n",
      "Epoch 3/20\n",
      "345/345 [==============================] - 115s 334ms/step - loss: 1.8461 - accuracy: 0.2756 - val_loss: 1.6661 - val_accuracy: 0.3483\n",
      "Epoch 4/20\n",
      "345/345 [==============================] - 115s 332ms/step - loss: 1.7911 - accuracy: 0.2877 - val_loss: 1.6862 - val_accuracy: 0.2541\n",
      "Epoch 5/20\n",
      "345/345 [==============================] - 115s 333ms/step - loss: 1.7600 - accuracy: 0.2917 - val_loss: 1.6754 - val_accuracy: 0.3117\n",
      "Epoch 6/20\n",
      "345/345 [==============================] - 116s 336ms/step - loss: 1.7576 - accuracy: 0.2983 - val_loss: 1.6080 - val_accuracy: 0.3171\n",
      "Epoch 7/20\n",
      "345/345 [==============================] - 115s 333ms/step - loss: 1.7339 - accuracy: 0.2984 - val_loss: 1.5902 - val_accuracy: 0.3418\n",
      "Epoch 8/20\n",
      "345/345 [==============================] - 115s 334ms/step - loss: 1.7183 - accuracy: 0.3066 - val_loss: 1.6025 - val_accuracy: 0.3360\n",
      "Epoch 9/20\n",
      "345/345 [==============================] - 115s 332ms/step - loss: 1.7144 - accuracy: 0.3073 - val_loss: 1.5960 - val_accuracy: 0.3255\n",
      "Epoch 10/20\n",
      "345/345 [==============================] - 114s 331ms/step - loss: 1.7033 - accuracy: 0.3021 - val_loss: 1.6000 - val_accuracy: 0.3440\n",
      "Epoch 11/20\n",
      "345/345 [==============================] - 116s 335ms/step - loss: 1.6926 - accuracy: 0.3129 - val_loss: 1.5735 - val_accuracy: 0.3635\n",
      "Epoch 12/20\n",
      "345/345 [==============================] - 115s 332ms/step - loss: 1.7064 - accuracy: 0.3138 - val_loss: 1.5654 - val_accuracy: 0.3490\n",
      "Epoch 13/20\n",
      "345/345 [==============================] - 114s 331ms/step - loss: 1.6862 - accuracy: 0.3158 - val_loss: 1.6079 - val_accuracy: 0.3005\n",
      "Epoch 14/20\n",
      "345/345 [==============================] - 115s 332ms/step - loss: 1.6774 - accuracy: 0.3174 - val_loss: 1.6038 - val_accuracy: 0.3407\n",
      "Epoch 15/20\n",
      "345/345 [==============================] - 116s 335ms/step - loss: 1.6699 - accuracy: 0.3217 - val_loss: 1.5875 - val_accuracy: 0.3316\n",
      "Epoch 16/20\n",
      "345/345 [==============================] - 115s 332ms/step - loss: 1.6757 - accuracy: 0.3220 - val_loss: 1.5688 - val_accuracy: 0.3432\n",
      "Epoch 17/20\n",
      "345/345 [==============================] - 115s 332ms/step - loss: 1.6704 - accuracy: 0.3191 - val_loss: 1.5723 - val_accuracy: 0.3487\n",
      "Epoch 18/20\n",
      "345/345 [==============================] - 114s 331ms/step - loss: 1.6893 - accuracy: 0.3139 - val_loss: 1.6262 - val_accuracy: 0.2932\n",
      "Epoch 19/20\n",
      "345/345 [==============================] - 115s 332ms/step - loss: 1.6643 - accuracy: 0.3202 - val_loss: 1.6136 - val_accuracy: 0.3055\n",
      "Epoch 20/20\n",
      "345/345 [==============================] - 115s 333ms/step - loss: 1.6570 - accuracy: 0.3236 - val_loss: 1.5960 - val_accuracy: 0.3273\n"
     ]
    },
    {
     "name": "stderr",
     "output_type": "stream",
     "text": [
      "WARNING:absl:Found untraced functions such as _jit_compiled_convolution_op, _jit_compiled_convolution_op, _jit_compiled_convolution_op, _jit_compiled_convolution_op, _jit_compiled_convolution_op while saving (showing 5 of 6). These functions will not be directly callable after loading.\n"
     ]
    },
    {
     "name": "stdout",
     "output_type": "stream",
     "text": [
      "INFO:tensorflow:Assets written to: model/angle_CNN/assets\n"
     ]
    },
    {
     "name": "stderr",
     "output_type": "stream",
     "text": [
      "INFO:tensorflow:Assets written to: model/angle_CNN/assets\n"
     ]
    }
   ],
   "source": [
    "train_gen = ImageDataGenerator(shear_range = 0.2, zoom_range =0.2, rotation_range=20,\n",
    "                               width_shift_range=0.2, height_shift_range=0.2,brightness_range=[0.4,1.5])\n",
    "val_gen = ImageDataGenerator()\n",
    "\n",
    "model = angle_CNN()\n",
    "#model = CNN().full_model()\n",
    "\n",
    "model.compile(optimizer='adam',\n",
    "              loss=tf.keras.losses.SparseCategoricalCrossentropy(from_logits=True),\n",
    "              metrics=['accuracy'])\n",
    "\n",
    "\n",
    "history = model.fit(train_gen.flow_from_dataframe(X_train,x_col='images',y_col='angle',class_mode='raw',\n",
    "                                        target_size=(240,180),batch_size=32),\n",
    "    validation_data=val_gen.flow_from_dataframe(X_valid, x_col='images',y_col='angle',class_mode='raw',\n",
    "    target_size=(240,180),batch_size=32), epochs=20)\n",
    "\n",
    "model.save('model/angle_CNN',save_format='tf')"
   ]
  },
  {
   "cell_type": "code",
   "execution_count": 16,
   "id": "db27e288",
   "metadata": {},
   "outputs": [],
   "source": [
    "def singlePlots(history):\n",
    "    # summarize history for accuracy\n",
    "    plt.plot(history.history['accuracy'])\n",
    "    plt.plot(history.history['val_accuracy'])\n",
    "    plt.title('model accuracy')\n",
    "    plt.ylabel('accuracy')\n",
    "    plt.xlabel('epoch')\n",
    "    plt.legend(['train', 'test'], loc='upper left')\n",
    "    plt.show()\n",
    "    # summarize history for loss\n",
    "    plt.plot(history.history['loss'])\n",
    "    plt.plot(history.history['val_loss'])\n",
    "    plt.title('model loss')\n",
    "    plt.ylabel('loss')\n",
    "    plt.xlabel('epoch')\n",
    "    plt.legend(['train', 'test'], loc='upper left')\n",
    "    plt.show()"
   ]
  },
  {
   "cell_type": "code",
   "execution_count": 17,
   "id": "5c5540f7",
   "metadata": {},
   "outputs": [
    {
     "data": {
      "image/png": "[encoded data removed]",
      "text/plain": [
       "<Figure size 432x288 with 1 Axes>"
      ]
     },
     "metadata": {
      "needs_background": "light"
     },
     "output_type": "display_data"
    },
    {
     "data": {
      "image/png": "[encoded data removed]",
      "text/plain": [
       "<Figure size 432x288 with 1 Axes>"
      ]
     },
     "metadata": {
      "needs_background": "light"
     },
     "output_type": "display_data"
    }
   ],
   "source": [
    "singlePlots(history)"
   ]
  },
  {
   "cell_type": "code",
   "execution_count": 25,
   "id": "e85ad101",
   "metadata": {},
   "outputs": [],
   "source": [
    "class speed_CNN(tf.keras.Model):\n",
    "  def __init__(self):\n",
    "    super().__init__()\n",
    "    \n",
    "    self.conv1 = Conv2D(24, 5, activation='relu')\n",
    "    self.conv2 = Conv2D(36, 5, activation='relu')\n",
    "    self.conv3 = Conv2D(48, 5, activation='relu')\n",
    "    self.conv4 = Conv2D(64, 3, activation='relu')\n",
    "    self.conv5 = Conv2D(64, 3, activation='relu')\n",
    "    \n",
    "    self.flatten = Flatten()\n",
    "    self.d1 = Dense(100, activation='relu')\n",
    "    self.d2 = Dense(50, activation='relu')\n",
    "    \n",
    "    #self.D4 = Dense(17, activation='softmax')\n",
    "    self.D5 = Dense(1, activation = 'sigmoid')\n",
    "\n",
    "  def call(self, x):\n",
    "    x = self.conv1(x)\n",
    "    x = self.conv2(x)\n",
    "    x = self.conv3(x)\n",
    "    x = self.conv4(x)\n",
    "    x = self.conv5(x)\n",
    "    \n",
    "    x = self.flatten(x)\n",
    "    x = self.d1(x)\n",
    "    x = self.d2(x)\n",
    "    \n",
    "    #y1 = self.D4(x)\n",
    "    y2 = self.D5(x)\n",
    "    \n",
    "    \n",
    "    \n",
    "    return y2"
   ]
  },
  {
   "cell_type": "code",
   "execution_count": null,
   "id": "a76af646",
   "metadata": {},
   "outputs": [],
   "source": []
  },
  {
   "cell_type": "code",
   "execution_count": 26,
   "id": "3d5952cc",
   "metadata": {},
   "outputs": [
    {
     "name": "stdout",
     "output_type": "stream",
     "text": [
      "Found 11034 validated image filenames.\n",
      "Found 2759 validated image filenames.\n",
      "Epoch 1/20\n",
      "345/345 [==============================] - 42s 115ms/step - loss: 17.6693 - accuracy: 0.8088 - val_loss: 0.2366 - val_accuracy: 0.9094\n",
      "Epoch 2/20\n",
      "345/345 [==============================] - 38s 109ms/step - loss: 0.1520 - accuracy: 0.9446 - val_loss: 0.1328 - val_accuracy: 0.9496\n",
      "Epoch 3/20\n",
      "345/345 [==============================] - 37s 106ms/step - loss: 0.0800 - accuracy: 0.9711 - val_loss: 0.1405 - val_accuracy: 0.9496\n",
      "Epoch 4/20\n",
      "345/345 [==============================] - 33s 95ms/step - loss: 0.0474 - accuracy: 0.9838 - val_loss: 0.1538 - val_accuracy: 0.9507\n",
      "Epoch 5/20\n",
      "345/345 [==============================] - 32s 94ms/step - loss: 0.0343 - accuracy: 0.9876 - val_loss: 0.2297 - val_accuracy: 0.9387\n",
      "Epoch 6/20\n",
      "345/345 [==============================] - 42s 123ms/step - loss: 0.0410 - accuracy: 0.9863 - val_loss: 0.2041 - val_accuracy: 0.9456\n",
      "Epoch 7/20\n",
      "345/345 [==============================] - 81s 236ms/step - loss: 0.0246 - accuracy: 0.9927 - val_loss: 0.2318 - val_accuracy: 0.9536\n",
      "Epoch 8/20\n",
      "345/345 [==============================] - 47s 135ms/step - loss: 0.0130 - accuracy: 0.9960 - val_loss: 0.2293 - val_accuracy: 0.9551\n",
      "Epoch 9/20\n",
      "345/345 [==============================] - 32s 94ms/step - loss: 0.0097 - accuracy: 0.9972 - val_loss: 0.2890 - val_accuracy: 0.9482\n",
      "Epoch 10/20\n",
      "345/345 [==============================] - 32s 94ms/step - loss: 0.0105 - accuracy: 0.9969 - val_loss: 0.2415 - val_accuracy: 0.9442\n",
      "Epoch 11/20\n",
      "345/345 [==============================] - 33s 94ms/step - loss: 0.0171 - accuracy: 0.9949 - val_loss: 0.2526 - val_accuracy: 0.9529\n",
      "Epoch 12/20\n",
      "345/345 [==============================] - 56s 162ms/step - loss: 0.2834 - accuracy: 0.9030 - val_loss: 0.5671 - val_accuracy: 0.7459\n",
      "Epoch 13/20\n",
      "345/345 [==============================] - 32s 94ms/step - loss: 0.5522 - accuracy: 0.7560 - val_loss: 0.5656 - val_accuracy: 0.7466\n",
      "Epoch 14/20\n",
      "345/345 [==============================] - 47s 137ms/step - loss: 0.5546 - accuracy: 0.7558 - val_loss: 0.5665 - val_accuracy: 0.7459\n",
      "Epoch 15/20\n",
      "345/345 [==============================] - 36s 105ms/step - loss: 0.5549 - accuracy: 0.7563 - val_loss: 0.5623 - val_accuracy: 0.7463\n",
      "Epoch 16/20\n",
      "345/345 [==============================] - 36s 104ms/step - loss: 0.4826 - accuracy: 0.7820 - val_loss: 0.4328 - val_accuracy: 0.7952\n",
      "Epoch 17/20\n",
      "345/345 [==============================] - 35s 101ms/step - loss: 0.2591 - accuracy: 0.8989 - val_loss: 0.2169 - val_accuracy: 0.9326\n",
      "Epoch 18/20\n",
      "345/345 [==============================] - 43s 123ms/step - loss: 0.0805 - accuracy: 0.9734 - val_loss: 0.1755 - val_accuracy: 0.9453\n",
      "Epoch 19/20\n",
      "345/345 [==============================] - 35s 101ms/step - loss: 0.0283 - accuracy: 0.9920 - val_loss: 0.2779 - val_accuracy: 0.9445\n",
      "Epoch 20/20\n",
      "345/345 [==============================] - 51s 149ms/step - loss: 0.0168 - accuracy: 0.9947 - val_loss: 0.4597 - val_accuracy: 0.9282\n"
     ]
    },
    {
     "name": "stderr",
     "output_type": "stream",
     "text": [
      "WARNING:absl:Found untraced functions such as _jit_compiled_convolution_op, _jit_compiled_convolution_op, _jit_compiled_convolution_op, _jit_compiled_convolution_op, _jit_compiled_convolution_op while saving (showing 5 of 5). These functions will not be directly callable after loading.\n"
     ]
    },
    {
     "name": "stdout",
     "output_type": "stream",
     "text": [
      "INFO:tensorflow:Assets written to: model/speed_CNN\\assets\n"
     ]
    },
    {
     "name": "stderr",
     "output_type": "stream",
     "text": [
      "INFO:tensorflow:Assets written to: model/speed_CNN\\assets\n"
     ]
    }
   ],
   "source": [
    "train_gen = ImageDataGenerator()\n",
    "val_gen = ImageDataGenerator()\n",
    "\n",
    "model = speed_CNN()\n",
    "#model = CNN().full_model()\n",
    "\n",
    "model.compile(optimizer='adam',\n",
    "              loss=tf.keras.losses.BinaryCrossentropy(from_logits=False),\n",
    "              metrics=['accuracy'])\n",
    "\n",
    "model.fit(train_gen.flow_from_dataframe(X_train,x_col='images',y_col='speed',class_mode='raw',\n",
    "                                        target_size=(200,66),batch_size=32),\n",
    "    validation_data=val_gen.flow_from_dataframe(X_valid, x_col='images',y_col='speed',class_mode='raw',\n",
    "    target_size=(200,66),batch_size=32), epochs=20)\n",
    "\n",
    "model.save('model/speed_CNN',save_format='tf')"
   ]
  }
 ],
 "metadata": {
  "kernelspec": {
   "display_name": "Python 3",
   "language": "python",
   "name": "python3"
  },
  "language_info": {
   "codemirror_mode": {
    "name": "ipython",
    "version": 3
   },
   "file_extension": ".py",
   "mimetype": "text/x-python",
   "name": "python",
   "nbconvert_exporter": "python",
   "pygments_lexer": "ipython3",
   "version": "3.8.8"
  }
 },
 "nbformat": 4,
 "nbformat_minor": 5
}
